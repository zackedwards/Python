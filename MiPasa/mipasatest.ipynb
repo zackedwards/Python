{
 "cells": [
  {
   "cell_type": "code",
   "execution_count": 117,
   "metadata": {},
   "outputs": [
    {
     "name": "stdout",
     "output_type": "stream",
     "text": [
      "      active                dates      date\n",
      "0        510  2020-01-22T00:00:00  20200122\n",
      "1        606  2020-01-23T00:00:00  20200123\n",
      "2        879  2020-01-24T00:00:00  20200124\n",
      "3       1353  2020-01-25T00:00:00  20200125\n",
      "4       2010  2020-01-26T00:00:00  20200126\n",
      "..       ...                  ...       ...\n",
      "143  3642481  2020-06-13T00:00:00  20200613\n",
      "144  3701904  2020-06-14T00:00:00  20200614\n",
      "145  3740224  2020-06-15T00:00:00  20200615\n",
      "146  3775086  2020-06-16T00:00:00  20200616\n",
      "147  3827036  2020-06-17T00:00:00  20200617\n",
      "\n",
      "[148 rows x 3 columns]\n"
     ]
    },
    {
     "ename": "AttributeError",
     "evalue": "'Series' object has no attribute 'to_datetime'",
     "output_type": "error",
     "traceback": [
      "\u001b[0;31m---------------------------------------------------------------------------\u001b[0m",
      "\u001b[0;31mAttributeError\u001b[0m                            Traceback (most recent call last)",
      "\u001b[0;32m<ipython-input-117-e1be96c5c9f1>\u001b[0m in \u001b[0;36m<module>\u001b[0;34m\u001b[0m\n\u001b[1;32m     50\u001b[0m \u001b[0;34m\u001b[0m\u001b[0m\n\u001b[1;32m     51\u001b[0m \u001b[0mprint\u001b[0m\u001b[0;34m(\u001b[0m\u001b[0mworldwide_sum\u001b[0m\u001b[0;34m)\u001b[0m\u001b[0;34m\u001b[0m\u001b[0;34m\u001b[0m\u001b[0m\n\u001b[0;32m---> 52\u001b[0;31m \u001b[0mX\u001b[0m \u001b[0;34m=\u001b[0m \u001b[0mworldwide_sum\u001b[0m\u001b[0;34m.\u001b[0m\u001b[0mdates\u001b[0m\u001b[0;34m.\u001b[0m\u001b[0mto_datetime\u001b[0m\u001b[0;34m.\u001b[0m\u001b[0mto_numpy\u001b[0m\u001b[0;34m(\u001b[0m\u001b[0;34m)\u001b[0m\u001b[0;34m.\u001b[0m\u001b[0mreshape\u001b[0m\u001b[0;34m(\u001b[0m\u001b[0;34m-\u001b[0m\u001b[0;36m1\u001b[0m\u001b[0;34m,\u001b[0m\u001b[0;36m1\u001b[0m\u001b[0;34m)\u001b[0m\u001b[0;34m\u001b[0m\u001b[0;34m\u001b[0m\u001b[0m\n\u001b[0m\u001b[1;32m     53\u001b[0m \u001b[0mY\u001b[0m \u001b[0;34m=\u001b[0m \u001b[0mworldwide_sum\u001b[0m\u001b[0;34m.\u001b[0m\u001b[0mactive\u001b[0m\u001b[0;34m.\u001b[0m\u001b[0mto_numpy\u001b[0m\u001b[0;34m(\u001b[0m\u001b[0;34m)\u001b[0m\u001b[0;34m.\u001b[0m\u001b[0mreshape\u001b[0m\u001b[0;34m(\u001b[0m\u001b[0;34m-\u001b[0m\u001b[0;36m1\u001b[0m\u001b[0;34m,\u001b[0m\u001b[0;36m1\u001b[0m\u001b[0;34m)\u001b[0m\u001b[0;34m\u001b[0m\u001b[0;34m\u001b[0m\u001b[0m\n\u001b[1;32m     54\u001b[0m \u001b[0mprint\u001b[0m\u001b[0;34m(\u001b[0m\u001b[0;34m\"x \"\u001b[0m\u001b[0;34m,\u001b[0m\u001b[0mX\u001b[0m\u001b[0;34m)\u001b[0m\u001b[0;34m\u001b[0m\u001b[0;34m\u001b[0m\u001b[0m\n",
      "\u001b[0;32m/Applications/anaconda3/lib/python3.7/site-packages/pandas/core/generic.py\u001b[0m in \u001b[0;36m__getattr__\u001b[0;34m(self, name)\u001b[0m\n\u001b[1;32m   5177\u001b[0m             \u001b[0;32mif\u001b[0m \u001b[0mself\u001b[0m\u001b[0;34m.\u001b[0m\u001b[0m_info_axis\u001b[0m\u001b[0;34m.\u001b[0m\u001b[0m_can_hold_identifiers_and_holds_name\u001b[0m\u001b[0;34m(\u001b[0m\u001b[0mname\u001b[0m\u001b[0;34m)\u001b[0m\u001b[0;34m:\u001b[0m\u001b[0;34m\u001b[0m\u001b[0;34m\u001b[0m\u001b[0m\n\u001b[1;32m   5178\u001b[0m                 \u001b[0;32mreturn\u001b[0m \u001b[0mself\u001b[0m\u001b[0;34m[\u001b[0m\u001b[0mname\u001b[0m\u001b[0;34m]\u001b[0m\u001b[0;34m\u001b[0m\u001b[0;34m\u001b[0m\u001b[0m\n\u001b[0;32m-> 5179\u001b[0;31m             \u001b[0;32mreturn\u001b[0m \u001b[0mobject\u001b[0m\u001b[0;34m.\u001b[0m\u001b[0m__getattribute__\u001b[0m\u001b[0;34m(\u001b[0m\u001b[0mself\u001b[0m\u001b[0;34m,\u001b[0m \u001b[0mname\u001b[0m\u001b[0;34m)\u001b[0m\u001b[0;34m\u001b[0m\u001b[0;34m\u001b[0m\u001b[0m\n\u001b[0m\u001b[1;32m   5180\u001b[0m \u001b[0;34m\u001b[0m\u001b[0m\n\u001b[1;32m   5181\u001b[0m     \u001b[0;32mdef\u001b[0m \u001b[0m__setattr__\u001b[0m\u001b[0;34m(\u001b[0m\u001b[0mself\u001b[0m\u001b[0;34m,\u001b[0m \u001b[0mname\u001b[0m\u001b[0;34m,\u001b[0m \u001b[0mvalue\u001b[0m\u001b[0;34m)\u001b[0m\u001b[0;34m:\u001b[0m\u001b[0;34m\u001b[0m\u001b[0;34m\u001b[0m\u001b[0m\n",
      "\u001b[0;31mAttributeError\u001b[0m: 'Series' object has no attribute 'to_datetime'"
     ]
    }
   ],
   "source": [
    "#author: Zack Edwards\n",
    "#Title: COVID-19 data set analysis\n",
    "\n",
    "#import mipasa\n",
    "import dateutil\n",
    "from datetime import datetime\n",
    "import matplotlib.pyplot as plt; plt.rcdefaults()\n",
    "import matplotlib.dates as mdates\n",
    "import time\n",
    "import seaborn as sns\n",
    "import pandas as pd\n",
    "import numpy as np\n",
    "import matplotlib.pyplot as plt\n",
    "from io import StringIO\n",
    "\n",
    "from sklearn.preprocessing import scale\n",
    "from sklearn.metrics import mean_squared_error, r2_score\n",
    "import statsmodels.api as sm\n",
    "import statsmodels.formula.api as smf\n",
    "from sklearn.linear_model import LinearRegression\n",
    "\n",
    "confirm = pd.read_csv('Output_JHU_Confirmed.csv')\n",
    "deaths = pd.read_csv('Output_JHU_Deaths.csv')\n",
    "recov = pd.read_csv('Output_JHU_Recovered.csv')\n",
    "\n",
    "worldwide_cases = confirm.groupby('date')['date','cases'].sum().reset_index()\n",
    "worldwide_deaths = deaths.groupby('date')['date','cases'].sum().reset_index()\n",
    "worldwide_recov = recov.groupby('date')['date','cases'].sum().reset_index()\n",
    "\n",
    "worldwide_sum = pd.DataFrame()\n",
    "worldwide_sum['active'] = worldwide_cases['cases'] - worldwide_deaths['cases'] - worldwide_recov['cases']\n",
    "worldwide_sum_dates = worldwide_cases['date'].to_list()\n",
    "worldwide_sum['dates'] = worldwide_cases['date'] \n",
    "\n",
    "# print(\"worldwide sum date\",worldwide_sum[\"date\"])\n",
    "\n",
    "worldwide_sum_dates[:] = [x[:10] for x in worldwide_sum_dates]\n",
    "worldwide_sum_dates[:] = [int(x.replace(\"-\",\"\")) for x in worldwide_sum_dates]\n",
    "\n",
    "# print(worldwide_cases)\n",
    "# print(worldwide_sum_dates)\n",
    "\n",
    "\n",
    "# for i in worldwide_sum_dates:\n",
    "#     print(\"i1 \",i)\n",
    "#     worldwide_sum_dates[i]=i[:9]\n",
    "#     i[1] = float(i[1][:9])\n",
    "\n",
    "worldwide_sum['date'] = worldwide_sum_dates\n",
    "\n",
    "\n",
    "print(worldwide_sum)\n",
    "X = worldwide_sum.dates.to_numpy().reshape(-1,1)\n",
    "Y = worldwide_sum.active.to_numpy().reshape(-1,1)\n",
    "print(\"x \",X)\n",
    "# print(\"worldwide_sum \", worldwide_sum)\n",
    "# for i in X:\n",
    "datetime_dates_X = [datetime.strptime(x, '%Y-%m-%dT%H:%M:%S').date() for x in worldwide_sum.dates]\n",
    "print(\"datetime: \",datetime_dates_X)\n",
    "linear_regressor = LinearRegression()  # create object for the class\n",
    "linear_regressor.fit(X, Y)  # perform linear regression\n",
    "Y_pred = linear_regressor.predict(X)  # make predictions\n",
    "\n",
    "fig1, ax1 = plt.subplots(figsize=(10,5))\n",
    "sns.set_style(\"whitegrid\")\n",
    "# sns.scatterplot(x=worldwide_sum.dates,y=worldwide_sum.active,ax=ax1)\n",
    "\n",
    "\n",
    "# formatter = mdates.DateFormatter(\"%Y-%m-%d\")\n",
    "# ax1.xaxis.set_major_formatter(formatter)\n",
    "\n",
    "# locator = mdates.DayLocator()\n",
    "# ax1.xaxis.set_major_locator(locator)\n",
    "\n",
    "\n",
    "plt.scatter(X,Y)\n",
    "plt.plot(X, Y_pred, color='red')\n",
    "sns.set_style(\"whitegrid\")\n",
    "plt.title('Worldwide Active Cases over Time',fontsize=20)\n",
    "plt.ylabel(\"Amount of Active Cases\",fontsize=15)\n",
    "plt.xlabel(\"Date: 1/22/20-current\",fontsize=15)\n",
    "plt.xticks(rotation = 90 ,fontsize = 8)\n",
    "plt.show()\n"
   ]
  },
  {
   "cell_type": "markdown",
   "metadata": {},
   "source": [
    "# "
   ]
  },
  {
   "cell_type": "code",
   "execution_count": null,
   "metadata": {},
   "outputs": [],
   "source": []
  },
  {
   "cell_type": "code",
   "execution_count": null,
   "metadata": {},
   "outputs": [],
   "source": []
  },
  {
   "cell_type": "code",
   "execution_count": null,
   "metadata": {},
   "outputs": [],
   "source": []
  },
  {
   "cell_type": "code",
   "execution_count": null,
   "metadata": {},
   "outputs": [],
   "source": []
  }
 ],
 "metadata": {
  "kernelspec": {
   "display_name": "Python 3",
   "language": "python",
   "name": "python3"
  },
  "language_info": {
   "codemirror_mode": {
    "name": "ipython",
    "version": 3
   },
   "file_extension": ".py",
   "mimetype": "text/x-python",
   "name": "python",
   "nbconvert_exporter": "python",
   "pygments_lexer": "ipython3",
   "version": "3.7.4"
  }
 },
 "nbformat": 4,
 "nbformat_minor": 4
}
