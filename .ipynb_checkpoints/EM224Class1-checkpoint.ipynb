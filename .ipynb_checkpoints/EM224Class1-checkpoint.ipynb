{
 "cells": [
  {
   "cell_type": "code",
   "execution_count": 40,
   "metadata": {},
   "outputs": [
    {
     "name": "stdout",
     "output_type": "stream",
     "text": [
      "Input variables for a quadratic equation\n"
     ]
    },
    {
     "name": "stdin",
     "output_type": "stream",
     "text": [
      "Input a:  6\n",
      "Input b:  -2\n",
      "Input c:  3\n"
     ]
    },
    {
     "name": "stdout",
     "output_type": "stream",
     "text": [
      "This quadratic has 2 solutions,  0.11785113019775793  and  0.11785113019775793\n"
     ]
    }
   ],
   "source": [
    "print('Input variables for a quadratic equation')\n",
    "a=float(input('Input a: ')) #inputs for the float variables\n",
    "b=float(input('Input b: '))\n",
    "c=float(input('Input c: '))\n",
    "\n",
    "disciminant = (b**2)-4*(a*c) #the part of the quadratic under the radical\n",
    "\n",
    "while discriminant < 0:\n",
    "    if discriminant < 0: #to determine if there are imaginary solutions\n",
    "        print('No real solution')\n",
    "        a=float(input('Input a: ')) #inputs for the float variables\n",
    "        b=float(input('Input b: '))\n",
    "        c=float(input('Input c: '))\n",
    "        disciminant = (b**2)-4*(a*c)\n",
    "else: \n",
    "    soln1 = (-b+discriminant)**0.5/(2*a)\n",
    "    soln2 = (-b-discriminant)**0.5/(2*a)\n",
    "    print('This quadratic has 2 solutions, ' ,soln1 ,' and ' ,soln2)\n",
    "    \n",
    "    "
   ]
  },
  {
   "cell_type": "code",
   "execution_count": null,
   "metadata": {},
   "outputs": [],
   "source": []
  },
  {
   "cell_type": "code",
   "execution_count": null,
   "metadata": {},
   "outputs": [],
   "source": []
  },
  {
   "cell_type": "code",
   "execution_count": null,
   "metadata": {},
   "outputs": [],
   "source": []
  }
 ],
 "metadata": {
  "kernelspec": {
   "display_name": "Python 3",
   "language": "python",
   "name": "python3"
  },
  "language_info": {
   "codemirror_mode": {
    "name": "ipython",
    "version": 3
   },
   "file_extension": ".py",
   "mimetype": "text/x-python",
   "name": "python",
   "nbconvert_exporter": "python",
   "pygments_lexer": "ipython3",
   "version": "3.7.4"
  }
 },
 "nbformat": 4,
 "nbformat_minor": 4
}
