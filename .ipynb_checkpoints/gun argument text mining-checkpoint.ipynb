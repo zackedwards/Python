{
 "cells": [
  {
   "cell_type": "code",
   "execution_count": 30,
   "metadata": {},
   "outputs": [
    {
     "name": "stdout",
     "output_type": "stream",
     "text": [
      "\n"
     ]
    }
   ],
   "source": [
    "#author Zack Edwards\n",
    "\n",
    "import nltk\n",
    "#nltk.download('all')\n",
    "import pandas as pd\n",
    "import string\n",
    "\n",
    "pro_file = open('ProGuns.txt', 'r')\n",
    "pro = pro_file.read()\n",
    "con_file = open('AgainstGuns.txt', 'r')\n",
    "con = con_file.read()\n",
    "punctuation = ['.',',',';',':','!','?','-']\n",
    "\n",
    "def clean(file):\n",
    "    for i in file:\n",
    "        for char in i:\n",
    "            if '.' in char:\n",
    "                del char\n",
    "            elif ',' in char:\n",
    "                del char\n",
    "            elif ';' in char:\n",
    "                del char\n",
    "            elif ':' in char:\n",
    "                del char\n",
    "            elif '!' in char:\n",
    "                del char\n",
    "            elif '?' in char:\n",
    "                del char\n",
    "            elif '-' in char:\n",
    "                del char\n",
    "    print()\n",
    "    \n",
    "clean(pro)\n",
    "    "
   ]
  },
  {
   "cell_type": "code",
   "execution_count": null,
   "metadata": {},
   "outputs": [],
   "source": []
  }
 ],
 "metadata": {
  "kernelspec": {
   "display_name": "Python 3",
   "language": "python",
   "name": "python3"
  },
  "language_info": {
   "codemirror_mode": {
    "name": "ipython",
    "version": 3
   },
   "file_extension": ".py",
   "mimetype": "text/x-python",
   "name": "python",
   "nbconvert_exporter": "python",
   "pygments_lexer": "ipython3",
   "version": "3.7.4"
  }
 },
 "nbformat": 4,
 "nbformat_minor": 4
}
