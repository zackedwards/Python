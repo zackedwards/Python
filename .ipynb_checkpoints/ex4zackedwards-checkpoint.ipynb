{
 "cells": [
  {
   "cell_type": "code",
   "execution_count": 16,
   "metadata": {},
   "outputs": [
    {
     "name": "stdout",
     "output_type": "stream",
     "text": [
      "\n",
      "\n",
      "The following data is from  6/1/13  to  9/30/13\n",
      "\n",
      "\n",
      "The average daily miles is  67421.9195313637\n",
      "\n",
      "\n",
      "The total number of 24 hour passes aquired is  265794.0\n",
      "\n",
      "\n",
      "The following data is from  1/1/14  to  2/2/14\n",
      "\n",
      "\n",
      "The average daily miles is  20929.43385498866\n",
      "\n",
      "\n",
      "The total number of 24 hour passes aquired is  3674.0\n"
     ]
    }
   ],
   "source": [
    "#Author Zack Edwards\n",
    "#Excersize 4\n",
    "\n",
    "\n",
    "def print_details(data):\n",
    "    averagedailymiles = 0\n",
    "    total24hour = 0\n",
    "    for i in data:\n",
    "        month = i[0][0]\n",
    "        dailymiles = i[3]\n",
    "        averagedailymiles = (float(averagedailymiles) + float(dailymiles)) / 2\n",
    "        total24hour = (float(i[7])) + float(total24hour)\n",
    "    print('\\n')\n",
    "    print('The following data is from ', data[0][0], ' to ', data[-1][0])\n",
    "    print('\\n')\n",
    "    print('The average daily miles is ', averagedailymiles)\n",
    "    print('\\n')\n",
    "    print('The total number of 24 hour passes aquired is ', total24hour)\n",
    "    \n",
    "    \n",
    "file = open (\"citi_bike.txt\", \"r\")\n",
    "data1 = []\n",
    "for line in file:\n",
    "    parts = line.strip().split()\n",
    "    data1.append(parts)\n",
    "\n",
    "print_details(data1)\n",
    "\n",
    "\n",
    "file = open (\"citi_bike.csv\", \"r\")\n",
    "data2 = []\n",
    "for line in file:\n",
    "    parts = line.strip().split(',')\n",
    "    data2.append(parts)\n",
    "    \n",
    "print_details(data2)\n",
    "    "
   ]
  },
  {
   "cell_type": "markdown",
   "metadata": {},
   "source": []
  },
  {
   "cell_type": "code",
   "execution_count": null,
   "metadata": {},
   "outputs": [],
   "source": []
  }
 ],
 "metadata": {
  "kernelspec": {
   "display_name": "Python 3",
   "language": "python",
   "name": "python3"
  },
  "language_info": {
   "codemirror_mode": {
    "name": "ipython",
    "version": 3
   },
   "file_extension": ".py",
   "mimetype": "text/x-python",
   "name": "python",
   "nbconvert_exporter": "python",
   "pygments_lexer": "ipython3",
   "version": "3.7.4"
  }
 },
 "nbformat": 4,
 "nbformat_minor": 4
}
