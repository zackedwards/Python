{
 "cells": [
  {
   "cell_type": "code",
   "execution_count": 155,
   "metadata": {},
   "outputs": [
    {
     "name": "stdout",
     "output_type": "stream",
     "text": [
      "\n"
     ]
    },
    {
     "ename": "NameError",
     "evalue": "name 'pro_temp' is not defined",
     "output_type": "error",
     "traceback": [
      "\u001b[0;31m---------------------------------------------------------------------------\u001b[0m",
      "\u001b[0;31mNameError\u001b[0m                                 Traceback (most recent call last)",
      "\u001b[0;32m<ipython-input-155-275b5bbc738c>\u001b[0m in \u001b[0;36m<module>\u001b[0;34m\u001b[0m\n\u001b[1;32m     65\u001b[0m \u001b[0;31m#print (bigrm1)\u001b[0m\u001b[0;34m\u001b[0m\u001b[0;34m\u001b[0m\u001b[0;34m\u001b[0m\u001b[0m\n\u001b[1;32m     66\u001b[0m \u001b[0mprint\u001b[0m\u001b[0;34m(\u001b[0m\u001b[0mfinal\u001b[0m\u001b[0;34m)\u001b[0m\u001b[0;34m\u001b[0m\u001b[0;34m\u001b[0m\u001b[0m\n\u001b[0;32m---> 67\u001b[0;31m \u001b[0mprint\u001b[0m\u001b[0;34m(\u001b[0m\u001b[0mpro_temp\u001b[0m\u001b[0;34m)\u001b[0m\u001b[0;34m\u001b[0m\u001b[0;34m\u001b[0m\u001b[0m\n\u001b[0m\u001b[1;32m     68\u001b[0m \u001b[0;34m\u001b[0m\u001b[0m\n",
      "\u001b[0;31mNameError\u001b[0m: name 'pro_temp' is not defined"
     ]
    }
   ],
   "source": [
    "#author Zack Edwards\n",
    "\n",
    "import re\n",
    "import nltk\n",
    "#nltk.download('all')\n",
    "import pandas as pd\n",
    "import string\n",
    "\n",
    "pro_file = open('ProGuns.txt', 'r+')\n",
    "pro = pro_file.readlines()\n",
    "con_file = open('AgainstGuns.txt', 'r+')\n",
    "con = con_file.readlines()\n",
    "newpro = open('ProGuns2.txt', 'w+')\n",
    "newcon = open('AgainstGuns2.txt', 'w+')\n",
    "punctuation = ['.',',',';',':','!','?','-']\n",
    "newnewpro = open('ProGuns3.txt', 'w+')\n",
    "stop = open('stopwords_en.txt', 'r')\n",
    "\n",
    "pro_temp = []\n",
    "for i in pro:\n",
    "    i.rstrip()\n",
    "    if ' \" ' in i:\n",
    "        pro_temp[i] = pro[i]\n",
    "#     elif 'Reply' in i:\n",
    "#         continue\n",
    "#     elif '+' in i:\n",
    "#         continue\n",
    "#     elif len(i.split()) <= 3:\n",
    "#         continue\n",
    "    else:\n",
    "        continue\n",
    "#         newpro.write(str(i))\n",
    "#         newpro.write(' ')        \n",
    "newpro.close()\n",
    "\n",
    "newpro = open('ProGuns2.txt')\n",
    "\n",
    "for i in newpro:\n",
    "    l = nltk.word_tokenize(i)\n",
    "    ll = [x for x in l if not re.fullmatch('[' + string.punctuation + ']+', x)]\n",
    "    ll = \"\".join([\" \"+i if not i.startswith(\"'\") and i not in string.punctuation else i for i in ll]).strip()\n",
    "    newnewpro.write(str(ll))\n",
    "    newnewpro.write('\\n')\n",
    "\n",
    "newpro.close()\n",
    "newnewpro.close()\n",
    "\n",
    "newestpro = open('ProGuns3.txt', 'r')\n",
    "newerpro = open('Final.txt', 'w+')\n",
    "\n",
    "newpro = open('Final.txt')\n",
    "newpro_readable = newpro.read()\n",
    "\n",
    "anotherone = open('nostopwords.txt', 'w+')\n",
    "for i in newpro_readable.split():\n",
    "    if i not in stop:\n",
    "        anotherone.write(i)\n",
    "        anotherone.write(' ')\n",
    "\n",
    "anotherone.close()\n",
    "lastone = open('nostopwords.txt', 'r')\n",
    "\n",
    "final = lastone.read()\n",
    "bigrm1 = list(nltk.bigrams(final.split()))\n",
    "#print (bigrm1)\n",
    "print(final)\n",
    "print(pro_temp)\n",
    "\n"
   ]
  },
  {
   "cell_type": "code",
   "execution_count": null,
   "metadata": {},
   "outputs": [],
   "source": []
  },
  {
   "cell_type": "code",
   "execution_count": null,
   "metadata": {},
   "outputs": [],
   "source": []
  }
 ],
 "metadata": {
  "kernelspec": {
   "display_name": "Python 3",
   "language": "python",
   "name": "python3"
  },
  "language_info": {
   "codemirror_mode": {
    "name": "ipython",
    "version": 3
   },
   "file_extension": ".py",
   "mimetype": "text/x-python",
   "name": "python",
   "nbconvert_exporter": "python",
   "pygments_lexer": "ipython3",
   "version": "3.7.4"
  }
 },
 "nbformat": 4,
 "nbformat_minor": 4
}
