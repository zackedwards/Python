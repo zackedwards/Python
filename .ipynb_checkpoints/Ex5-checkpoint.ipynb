{
 "cells": [
  {
   "cell_type": "code",
   "execution_count": 53,
   "metadata": {},
   "outputs": [
    {
     "name": "stdout",
     "output_type": "stream",
     "text": [
      "Lower income males:  939  Lower income females:  1350\n",
      "Middle income males:  925  Middle income females:  1066\n",
      "Upper income males:  1203  Upper income females:  1393\n"
     ]
    },
    {
     "data": {
      "image/png": "[encoded data removed]",
      "text/plain": [
       "<Figure size 432x288 with 2 Axes>"
      ]
     },
     "metadata": {
      "needs_background": "light"
     },
     "output_type": "display_data"
    }
   ],
   "source": [
    "#Author Zack Edwards\n",
    "#Ex5\n",
    "\n",
    "import matplotlib.pyplot as plt\n",
    "\n",
    "data = []\n",
    "counts = [0,0,0,0,0,0]\n",
    "\n",
    "def get_index(parts):\n",
    "    for i in data:\n",
    "        if 'NA' in i:\n",
    "            continue\n",
    "        if i[1] == '1':\n",
    "            if '1' in i[0]:\n",
    "                counts[0] += 1\n",
    "            elif '2' in i[0]:\n",
    "                counts[0] += 1\n",
    "            elif '3' in i[0]:\n",
    "                counts[0] += 1\n",
    "            elif '4' in i[0]:\n",
    "                counts[1] += 1\n",
    "            elif '5' in i[0]:\n",
    "                counts[1] += 1\n",
    "            elif '6' in i[0]:\n",
    "                counts[1] += 1\n",
    "            else:\n",
    "                counts[2] += 1\n",
    "        elif i[1] == '2':\n",
    "            if '1' in i[0]:\n",
    "                counts[3] += 1\n",
    "            elif '2' in i[0]:\n",
    "                counts[3] += 1\n",
    "            elif '3' in i[0]:\n",
    "                counts[3] += 1\n",
    "            elif '4' in i[0]:\n",
    "                counts[4] += 1\n",
    "            elif '5' in i[0]:\n",
    "                counts[4] += 1\n",
    "            elif '6' in i[0]:\n",
    "                counts[4] += 1\n",
    "            else:\n",
    "                counts[5] += 1\n",
    "\n",
    "marketingfile = open('marketingdata.txt', 'r')\n",
    "for line in marketingfile:\n",
    "    parts = line.strip().split()\n",
    "    data.append(parts)\n",
    "get_index(data)\n",
    "\n",
    "print('Lower income males: ', counts[0],' Lower income females: ', counts[3])\n",
    "print('Middle income males: ', counts[1],' Middle income females: ', counts[4])\n",
    "print('Upper income males: ', counts[2], ' Upper income females: ', counts[5])\n",
    "\n",
    "x=[1,2,3,4,5,6]\n",
    "y=[counts[0],counts[1],counts[2],counts[3],counts[4],counts[5]]\n",
    "plt.subplot(2,2,1)\n",
    "plt.title('Bar graph of incomes')\n",
    "plt.bar(x,y)\n",
    "\n",
    "\n",
    "plt.subplot(2,2,2)\n",
    "plt.title('Pie chart of incomes')\n",
    "plt.labels(['Lower income males','Middle income males','Upper income males','Lower income females','Middle income females','Upper income females'])\n",
    "plt.pie(counts)\n",
    "\n",
    "plt.show()"
   ]
  },
  {
   "cell_type": "code",
   "execution_count": null,
   "metadata": {},
   "outputs": [],
   "source": []
  }
 ],
 "metadata": {
  "kernelspec": {
   "display_name": "Python 3",
   "language": "python",
   "name": "python3"
  },
  "language_info": {
   "codemirror_mode": {
    "name": "ipython",
    "version": 3
   },
   "file_extension": ".py",
   "mimetype": "text/x-python",
   "name": "python",
   "nbconvert_exporter": "python",
   "pygments_lexer": "ipython3",
   "version": "3.7.4"
  }
 },
 "nbformat": 4,
 "nbformat_minor": 4
}
