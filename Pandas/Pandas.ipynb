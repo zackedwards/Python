{
 "cells": [
  {
   "cell_type": "code",
   "execution_count": 2,
   "metadata": {},
   "outputs": [],
   "source": [
    "import pandas as pd\n",
    "# sreies\n",
    "# data frames\n"
   ]
  },
  {
   "cell_type": "code",
   "execution_count": 2,
   "metadata": {},
   "outputs": [
    {
     "name": "stdout",
     "output_type": "stream",
     "text": [
      "           country  value\n",
      "0    United States    157\n",
      "1   United Kingdom     93\n",
      "2            Japan     89\n",
      "3            China     63\n",
      "4          Germany     44\n",
      "5            India     42\n",
      "6            Italy     40\n",
      "7        Australia     35\n",
      "8           Brazil     32\n",
      "9           France     31\n",
      "10          Taiwan     31\n",
      "11           Spain     29\n",
      "           country  value     angle    color\n",
      "0    United States    157  1.437988  #3182bd\n",
      "1   United Kingdom     93  0.851802  #6baed6\n",
      "2            Japan     89  0.815165  #9ecae1\n",
      "3            China     63  0.577027  #c6dbef\n",
      "4          Germany     44  0.403003  #e6550d\n",
      "5            India     42  0.384685  #fd8d3c\n",
      "6            Italy     40  0.366366  #fdae6b\n",
      "7        Australia     35  0.320571  #fdd0a2\n",
      "8           Brazil     32  0.293093  #31a354\n",
      "9           France     31  0.283934  #74c476\n",
      "10          Taiwan     31  0.283934  #a1d99b\n",
      "11           Spain     29  0.265616  #c7e9c0\n"
     ]
    }
   ],
   "source": [
    "from math import pi\n",
    "\n",
    "import pandas as pd\n",
    "\n",
    "from bokeh.io import output_file, show\n",
    "from bokeh.palettes import Category20c\n",
    "from bokeh.plotting import figure\n",
    "from bokeh.transform import cumsum\n",
    "\n",
    "x = { 'United States': 157, 'United Kingdom': 93, 'Japan': 89, 'China': 63,\n",
    "    'Germany': 44, 'India': 42, 'Italy': 40, 'Australia': 35,\n",
    "    'Brazil': 32, 'France': 31, 'Taiwan': 31, 'Spain': 29 }\n",
    "\n",
    "data = pd.Series(x).reset_index(name='value').rename(columns={'index':'country'})\n",
    "print(data)\n",
    "data['angle'] = data['value']/data['value'].sum() * 2*pi\n",
    "data['color'] = Category20c[len(x)]\n",
    "print(data)\n",
    "\n",
    "p = figure(plot_height=350, title=\"Pie Chart\", toolbar_location=None,\n",
    "        tools=\"hover\", tooltips=\"@country: @value\")\n",
    "\n",
    "p.wedge(x=0, y=1, radius=0.4,\n",
    "        start_angle=cumsum('angle', include_zero=True), end_angle=cumsum('angle'),\n",
    "        line_color=\"white\", fill_color='color', legend='country', source=data)\n",
    "\n",
    "show(p)"
   ]
  },
  {
   "cell_type": "code",
   "execution_count": null,
   "metadata": {},
   "outputs": [],
   "source": []
  },
  {
   "cell_type": "code",
   "execution_count": null,
   "metadata": {},
   "outputs": [],
   "source": []
  },
  {
   "cell_type": "code",
   "execution_count": null,
   "metadata": {},
   "outputs": [],
   "source": []
  },
  {
   "cell_type": "code",
   "execution_count": 3,
   "metadata": {},
   "outputs": [
    {
     "data": {
      "text/plain": [
       "a      3\n",
       "b    cat\n",
       "c    2.5\n",
       "dtype: object"
      ]
     },
     "execution_count": 3,
     "metadata": {},
     "output_type": "execute_result"
    }
   ],
   "source": [
    "#obtain series from python dictionaries\n",
    "# keys of dictionaries act as index or label for values\n",
    "dict = {'a': 3, 'b':\"cat\" , 'c': 2.5}\n",
    "dict\n",
    "q= pd.Series(dict)\n",
    "q"
   ]
  },
  {
   "cell_type": "code",
   "execution_count": 5,
   "metadata": {},
   "outputs": [
    {
     "data": {
      "text/plain": [
       "amy      100\n",
       "Raz      Cat\n",
       "Julia    310\n",
       "Gregg    gog\n",
       "Carlo    500\n",
       "dtype: object"
      ]
     },
     "execution_count": 5,
     "metadata": {},
     "output_type": "execute_result"
    }
   ],
   "source": [
    "df = pd.Series([100,'Cat', 310, 'gog', 500], index= ['amy', 'Raz', 'Julia', 'Gregg','Carlo'])\n",
    "df"
   ]
  },
  {
   "cell_type": "code",
   "execution_count": 6,
   "metadata": {},
   "outputs": [
    {
     "data": {
      "text/plain": [
       "amy      100\n",
       "Carlo    500\n",
       "dtype: object"
      ]
     },
     "execution_count": 6,
     "metadata": {},
     "output_type": "execute_result"
    }
   ],
   "source": [
    "df.loc[['amy','Carlo']]"
   ]
  },
  {
   "cell_type": "code",
   "execution_count": 7,
   "metadata": {},
   "outputs": [
    {
     "data": {
      "text/plain": [
       "amy     100\n",
       "boby    cat\n",
       "cat     310\n",
       "don     gog\n",
       "emma    500\n",
       "dtype: object"
      ]
     },
     "execution_count": 7,
     "metadata": {},
     "output_type": "execute_result"
    }
   ],
   "source": [
    "oneD = pd.Series([100,'cat', 310, 'gog', 500], index = ['amy','boby', 'cat', 'don', 'emma'])\n",
    "oneD"
   ]
  },
  {
   "cell_type": "code",
   "execution_count": 8,
   "metadata": {},
   "outputs": [
    {
     "data": {
      "text/plain": [
       "amy     100\n",
       "boby    cat\n",
       "cat     310\n",
       "don     gog\n",
       "emma    500\n",
       "dtype: object"
      ]
     },
     "execution_count": 8,
     "metadata": {},
     "output_type": "execute_result"
    }
   ],
   "source": [
    "oneD = pd.Series([100,'cat', 310, 'gog', 500], ['amy','boby', 'cat', 'don', 'emma'])\n",
    "oneD"
   ]
  },
  {
   "cell_type": "code",
   "execution_count": 9,
   "metadata": {},
   "outputs": [
    {
     "name": "stderr",
     "output_type": "stream",
     "text": [
      "/Applications/anaconda3/lib/python3.7/site-packages/ipykernel_launcher.py:1: FutureWarning: \n",
      "Passing list-likes to .loc or [] with any missing label will raise\n",
      "KeyError in the future, you can use .reindex() as an alternative.\n",
      "\n",
      "See the documentation here:\n",
      "https://pandas.pydata.org/pandas-docs/stable/user_guide/indexing.html#deprecate-loc-reindex-listlike\n",
      "  \"\"\"Entry point for launching an IPython kernel.\n"
     ]
    },
    {
     "data": {
      "text/plain": [
       "dog     NaN\n",
       "emma    500\n",
       "dtype: object"
      ]
     },
     "execution_count": 9,
     "metadata": {},
     "output_type": "execute_result"
    }
   ],
   "source": [
    "oneD.loc[['dog', 'emma']]"
   ]
  },
  {
   "cell_type": "code",
   "execution_count": 10,
   "metadata": {},
   "outputs": [
    {
     "data": {
      "text/plain": [
       "amy     100\n",
       "don     gog\n",
       "emma    500\n",
       "dtype: object"
      ]
     },
     "execution_count": 10,
     "metadata": {},
     "output_type": "execute_result"
    }
   ],
   "source": [
    "oneD[[0,3,4]] # index value at index 0,3,4"
   ]
  },
  {
   "cell_type": "code",
   "execution_count": 11,
   "metadata": {},
   "outputs": [
    {
     "data": {
      "text/plain": [
       "Raz      Cat\n",
       "Julia    310\n",
       "Gregg    gog\n",
       "dtype: object"
      ]
     },
     "execution_count": 11,
     "metadata": {},
     "output_type": "execute_result"
    }
   ],
   "source": [
    "df[[1,2,3]]"
   ]
  },
  {
   "cell_type": "code",
   "execution_count": 12,
   "metadata": {},
   "outputs": [
    {
     "data": {
      "text/plain": [
       "'cat'"
      ]
     },
     "execution_count": 12,
     "metadata": {},
     "output_type": "execute_result"
    }
   ],
   "source": [
    "oneD.iloc[1]"
   ]
  },
  {
   "cell_type": "code",
   "execution_count": 12,
   "metadata": {},
   "outputs": [
    {
     "data": {
      "text/plain": [
       "'Cat'"
      ]
     },
     "execution_count": 12,
     "metadata": {},
     "output_type": "execute_result"
    }
   ],
   "source": [
    "df.iloc[1]"
   ]
  },
  {
   "cell_type": "code",
   "execution_count": 13,
   "metadata": {},
   "outputs": [
    {
     "data": {
      "text/plain": [
       "True"
      ]
     },
     "execution_count": 13,
     "metadata": {},
     "output_type": "execute_result"
    }
   ],
   "source": [
    "'cat' in oneD # search among indexes"
   ]
  },
  {
   "cell_type": "code",
   "execution_count": 17,
   "metadata": {},
   "outputs": [
    {
     "data": {
      "text/plain": [
       "True"
      ]
     },
     "execution_count": 17,
     "metadata": {},
     "output_type": "execute_result"
    }
   ],
   "source": [
    "'Raz' in df"
   ]
  },
  {
   "cell_type": "code",
   "execution_count": 18,
   "metadata": {},
   "outputs": [
    {
     "data": {
      "text/plain": [
       "False"
      ]
     },
     "execution_count": 18,
     "metadata": {},
     "output_type": "execute_result"
    }
   ],
   "source": [
    "'Dog' in oneD"
   ]
  },
  {
   "cell_type": "code",
   "execution_count": 14,
   "metadata": {},
   "outputs": [],
   "source": [
    "# dataframe\n",
    "d= { 'A': pd.Series([100,200,300], index = ['apple', 'pear', 'orange']),\n",
    "   'B' : pd.Series([111, 112, 113,114] , index = ['apple',  'pear', 'orange', 'melon'])}"
   ]
  },
  {
   "cell_type": "code",
   "execution_count": 15,
   "metadata": {},
   "outputs": [],
   "source": [
    "midterm = { 'W1':pd.Series ([90,95,80,87], index = ['EM224', 'EM225','EM226', 'EM227']),\n",
    "          'W2': pd.Series([70,85,82], index=  ['EM228', 'EM229','EM223'])\n",
    "         }"
   ]
  },
  {
   "cell_type": "code",
   "execution_count": 16,
   "metadata": {},
   "outputs": [
    {
     "name": "stdout",
     "output_type": "stream",
     "text": [
      "         W1    W2\n",
      "EM223   NaN  82.0\n",
      "EM224  90.0   NaN\n",
      "EM225  95.0   NaN\n",
      "EM226  80.0   NaN\n",
      "EM227  87.0   NaN\n",
      "EM228   NaN  70.0\n",
      "EM229   NaN  85.0\n"
     ]
    }
   ],
   "source": [
    "mt = pd.DataFrame(midterm)\n",
    "print(mt)"
   ]
  },
  {
   "cell_type": "code",
   "execution_count": 34,
   "metadata": {},
   "outputs": [
    {
     "data": {
      "text/html": [
       "<div>\n",
       "<style scoped>\n",
       "    .dataframe tbody tr th:only-of-type {\n",
       "        vertical-align: middle;\n",
       "    }\n",
       "\n",
       "    .dataframe tbody tr th {\n",
       "        vertical-align: top;\n",
       "    }\n",
       "\n",
       "    .dataframe thead th {\n",
       "        text-align: right;\n",
       "    }\n",
       "</style>\n",
       "<table border=\"1\" class=\"dataframe\">\n",
       "  <thead>\n",
       "    <tr style=\"text-align: right;\">\n",
       "      <th></th>\n",
       "      <th>W2</th>\n",
       "      <th>W1</th>\n",
       "    </tr>\n",
       "  </thead>\n",
       "  <tbody>\n",
       "    <tr>\n",
       "      <th>EM224</th>\n",
       "      <td>NaN</td>\n",
       "      <td>90.0</td>\n",
       "    </tr>\n",
       "    <tr>\n",
       "      <th>EM228</th>\n",
       "      <td>70.0</td>\n",
       "      <td>NaN</td>\n",
       "    </tr>\n",
       "    <tr>\n",
       "      <th>EM229</th>\n",
       "      <td>85.0</td>\n",
       "      <td>NaN</td>\n",
       "    </tr>\n",
       "    <tr>\n",
       "      <th>EM227</th>\n",
       "      <td>NaN</td>\n",
       "      <td>87.0</td>\n",
       "    </tr>\n",
       "  </tbody>\n",
       "</table>\n",
       "</div>"
      ],
      "text/plain": [
       "         W2    W1\n",
       "EM224   NaN  90.0\n",
       "EM228  70.0   NaN\n",
       "EM229  85.0   NaN\n",
       "EM227   NaN  87.0"
      ]
     },
     "execution_count": 34,
     "metadata": {},
     "output_type": "execute_result"
    }
   ],
   "source": [
    "pd.DataFrame(mt, index = ['EM224', 'EM228','EM229', 'EM227'], columns = ['W2','W1'])"
   ]
  },
  {
   "cell_type": "code",
   "execution_count": 23,
   "metadata": {},
   "outputs": [
    {
     "name": "stdout",
     "output_type": "stream",
     "text": [
      "            A    B\n",
      "apple   100.0  111\n",
      "melon     NaN  114\n",
      "orange  300.0  113\n",
      "pear    200.0  112\n"
     ]
    }
   ],
   "source": [
    "df = pd.DataFrame(d)\n",
    "print(df)"
   ]
  },
  {
   "cell_type": "code",
   "execution_count": 24,
   "metadata": {},
   "outputs": [
    {
     "name": "stdout",
     "output_type": "stream",
     "text": [
      "<class 'pandas.core.frame.DataFrame'>\n"
     ]
    }
   ],
   "source": [
    "print(type(df))"
   ]
  },
  {
   "cell_type": "code",
   "execution_count": 27,
   "metadata": {},
   "outputs": [
    {
     "name": "stdout",
     "output_type": "stream",
     "text": [
      "<class 'pandas.core.frame.DataFrame'>\n"
     ]
    },
    {
     "data": {
      "text/plain": [
       "Index(['w1', 'W2'], dtype='object')"
      ]
     },
     "execution_count": 27,
     "metadata": {},
     "output_type": "execute_result"
    }
   ],
   "source": [
    "print(type(mt))\n",
    "mt.index\n",
    "mt.columns"
   ]
  },
  {
   "cell_type": "code",
   "execution_count": 25,
   "metadata": {},
   "outputs": [
    {
     "data": {
      "text/plain": [
       "Index(['apple', 'melon', 'orange', 'pear'], dtype='object')"
      ]
     },
     "execution_count": 25,
     "metadata": {},
     "output_type": "execute_result"
    }
   ],
   "source": [
    "df.index # rows"
   ]
  },
  {
   "cell_type": "code",
   "execution_count": 26,
   "metadata": {},
   "outputs": [
    {
     "data": {
      "text/plain": [
       "Index(['A', 'B'], dtype='object')"
      ]
     },
     "execution_count": 26,
     "metadata": {},
     "output_type": "execute_result"
    }
   ],
   "source": [
    "df.columns"
   ]
  },
  {
   "cell_type": "code",
   "execution_count": 29,
   "metadata": {},
   "outputs": [
    {
     "data": {
      "text/html": [
       "<div>\n",
       "<style scoped>\n",
       "    .dataframe tbody tr th:only-of-type {\n",
       "        vertical-align: middle;\n",
       "    }\n",
       "\n",
       "    .dataframe tbody tr th {\n",
       "        vertical-align: top;\n",
       "    }\n",
       "\n",
       "    .dataframe thead th {\n",
       "        text-align: right;\n",
       "    }\n",
       "</style>\n",
       "<table border=\"1\" class=\"dataframe\">\n",
       "  <thead>\n",
       "    <tr style=\"text-align: right;\">\n",
       "      <th></th>\n",
       "      <th>A</th>\n",
       "    </tr>\n",
       "  </thead>\n",
       "  <tbody>\n",
       "    <tr>\n",
       "      <th>apple</th>\n",
       "      <td>100.0</td>\n",
       "    </tr>\n",
       "    <tr>\n",
       "      <th>pear</th>\n",
       "      <td>200.0</td>\n",
       "    </tr>\n",
       "    <tr>\n",
       "      <th>orange</th>\n",
       "      <td>300.0</td>\n",
       "    </tr>\n",
       "    <tr>\n",
       "      <th>melon</th>\n",
       "      <td>NaN</td>\n",
       "    </tr>\n",
       "  </tbody>\n",
       "</table>\n",
       "</div>"
      ],
      "text/plain": [
       "            A\n",
       "apple   100.0\n",
       "pear    200.0\n",
       "orange  300.0\n",
       "melon     NaN"
      ]
     },
     "execution_count": 29,
     "metadata": {},
     "output_type": "execute_result"
    }
   ],
   "source": [
    "pd.DataFrame(df, index = ['apple', 'pear', 'orange','melon'], columns = ['A']) # specify which row/column we want to see"
   ]
  },
  {
   "cell_type": "markdown",
   "metadata": {},
   "source": [
    "#  reading in CSv"
   ]
  },
  {
   "cell_type": "code",
   "execution_count": 1,
   "metadata": {},
   "outputs": [],
   "source": [
    "import numpy as np\n",
    "import pandas as pd\n"
   ]
  },
  {
   "cell_type": "code",
   "execution_count": 2,
   "metadata": {},
   "outputs": [
    {
     "data": {
      "text/html": [
       "<div>\n",
       "<style scoped>\n",
       "    .dataframe tbody tr th:only-of-type {\n",
       "        vertical-align: middle;\n",
       "    }\n",
       "\n",
       "    .dataframe tbody tr th {\n",
       "        vertical-align: top;\n",
       "    }\n",
       "\n",
       "    .dataframe thead th {\n",
       "        text-align: right;\n",
       "    }\n",
       "</style>\n",
       "<table border=\"1\" class=\"dataframe\">\n",
       "  <thead>\n",
       "    <tr style=\"text-align: right;\">\n",
       "      <th></th>\n",
       "      <th>x1</th>\n",
       "      <th>x2</th>\n",
       "      <th>x3</th>\n",
       "      <th>x4</th>\n",
       "      <th>x5</th>\n",
       "      <th>x6</th>\n",
       "      <th>x7</th>\n",
       "      <th>x8</th>\n",
       "      <th>x9</th>\n",
       "      <th>x10</th>\n",
       "      <th>y</th>\n",
       "    </tr>\n",
       "  </thead>\n",
       "  <tbody>\n",
       "    <tr>\n",
       "      <td>0</td>\n",
       "      <td>0.01</td>\n",
       "      <td>7.36</td>\n",
       "      <td>117.75</td>\n",
       "      <td>114.62</td>\n",
       "      <td>1</td>\n",
       "      <td>0</td>\n",
       "      <td>0.0</td>\n",
       "      <td>75</td>\n",
       "      <td>316.46</td>\n",
       "      <td>2.169000</td>\n",
       "      <td>3.965913</td>\n",
       "    </tr>\n",
       "    <tr>\n",
       "      <td>1</td>\n",
       "      <td>0.01</td>\n",
       "      <td>6.19</td>\n",
       "      <td>17.90</td>\n",
       "      <td>17.64</td>\n",
       "      <td>0</td>\n",
       "      <td>0</td>\n",
       "      <td>0.0</td>\n",
       "      <td>90</td>\n",
       "      <td>408.93</td>\n",
       "      <td>2.417221</td>\n",
       "      <td>4.096611</td>\n",
       "    </tr>\n",
       "    <tr>\n",
       "      <td>2</td>\n",
       "      <td>0.01</td>\n",
       "      <td>6.19</td>\n",
       "      <td>10.04</td>\n",
       "      <td>9.58</td>\n",
       "      <td>0</td>\n",
       "      <td>0</td>\n",
       "      <td>0.0</td>\n",
       "      <td>90</td>\n",
       "      <td>289.56</td>\n",
       "      <td>2.417221</td>\n",
       "      <td>5.925502</td>\n",
       "    </tr>\n",
       "    <tr>\n",
       "      <td>3</td>\n",
       "      <td>0.01</td>\n",
       "      <td>6.19</td>\n",
       "      <td>13.24</td>\n",
       "      <td>12.90</td>\n",
       "      <td>0</td>\n",
       "      <td>0</td>\n",
       "      <td>0.0</td>\n",
       "      <td>90</td>\n",
       "      <td>256.82</td>\n",
       "      <td>2.417221</td>\n",
       "      <td>5.582139</td>\n",
       "    </tr>\n",
       "    <tr>\n",
       "      <td>4</td>\n",
       "      <td>0.01</td>\n",
       "      <td>6.19</td>\n",
       "      <td>16.24</td>\n",
       "      <td>15.96</td>\n",
       "      <td>0</td>\n",
       "      <td>0</td>\n",
       "      <td>0.0</td>\n",
       "      <td>90</td>\n",
       "      <td>527.92</td>\n",
       "      <td>2.417221</td>\n",
       "      <td>5.674701</td>\n",
       "    </tr>\n",
       "  </tbody>\n",
       "</table>\n",
       "</div>"
      ],
      "text/plain": [
       "     x1    x2      x3      x4  x5  x6   x7  x8      x9       x10         y\n",
       "0  0.01  7.36  117.75  114.62   1   0  0.0  75  316.46  2.169000  3.965913\n",
       "1  0.01  6.19   17.90   17.64   0   0  0.0  90  408.93  2.417221  4.096611\n",
       "2  0.01  6.19   10.04    9.58   0   0  0.0  90  289.56  2.417221  5.925502\n",
       "3  0.01  6.19   13.24   12.90   0   0  0.0  90  256.82  2.417221  5.582139\n",
       "4  0.01  6.19   16.24   15.96   0   0  0.0  90  527.92  2.417221  5.674701"
      ]
     },
     "execution_count": 2,
     "metadata": {},
     "output_type": "execute_result"
    }
   ],
   "source": [
    "file = 'Regression Data-1.csv'\n",
    "df1 = pd.read_csv(file)\n",
    "df1.head()"
   ]
  },
  {
   "cell_type": "code",
   "execution_count": 4,
   "metadata": {},
   "outputs": [
    {
     "ename": "KeyError",
     "evalue": "'Frequency'",
     "output_type": "error",
     "traceback": [
      "\u001b[0;31m---------------------------------------------------------------------------\u001b[0m",
      "\u001b[0;31mKeyError\u001b[0m                                  Traceback (most recent call last)",
      "\u001b[0;32m/Applications/anaconda3/lib/python3.7/site-packages/pandas/core/indexes/base.py\u001b[0m in \u001b[0;36mget_loc\u001b[0;34m(self, key, method, tolerance)\u001b[0m\n\u001b[1;32m   2896\u001b[0m             \u001b[0;32mtry\u001b[0m\u001b[0;34m:\u001b[0m\u001b[0;34m\u001b[0m\u001b[0;34m\u001b[0m\u001b[0m\n\u001b[0;32m-> 2897\u001b[0;31m                 \u001b[0;32mreturn\u001b[0m \u001b[0mself\u001b[0m\u001b[0;34m.\u001b[0m\u001b[0m_engine\u001b[0m\u001b[0;34m.\u001b[0m\u001b[0mget_loc\u001b[0m\u001b[0;34m(\u001b[0m\u001b[0mkey\u001b[0m\u001b[0;34m)\u001b[0m\u001b[0;34m\u001b[0m\u001b[0;34m\u001b[0m\u001b[0m\n\u001b[0m\u001b[1;32m   2898\u001b[0m             \u001b[0;32mexcept\u001b[0m \u001b[0mKeyError\u001b[0m\u001b[0;34m:\u001b[0m\u001b[0;34m\u001b[0m\u001b[0;34m\u001b[0m\u001b[0m\n",
      "\u001b[0;32mpandas/_libs/index.pyx\u001b[0m in \u001b[0;36mpandas._libs.index.IndexEngine.get_loc\u001b[0;34m()\u001b[0m\n",
      "\u001b[0;32mpandas/_libs/index.pyx\u001b[0m in \u001b[0;36mpandas._libs.index.IndexEngine.get_loc\u001b[0;34m()\u001b[0m\n",
      "\u001b[0;32mpandas/_libs/hashtable_class_helper.pxi\u001b[0m in \u001b[0;36mpandas._libs.hashtable.PyObjectHashTable.get_item\u001b[0;34m()\u001b[0m\n",
      "\u001b[0;32mpandas/_libs/hashtable_class_helper.pxi\u001b[0m in \u001b[0;36mpandas._libs.hashtable.PyObjectHashTable.get_item\u001b[0;34m()\u001b[0m\n",
      "\u001b[0;31mKeyError\u001b[0m: 'Frequency'",
      "\nDuring handling of the above exception, another exception occurred:\n",
      "\u001b[0;31mKeyError\u001b[0m                                  Traceback (most recent call last)",
      "\u001b[0;32m<ipython-input-4-c783bd428895>\u001b[0m in \u001b[0;36m<module>\u001b[0;34m\u001b[0m\n\u001b[1;32m      4\u001b[0m \u001b[0;31m#test = test.dropna()\u001b[0m\u001b[0;34m\u001b[0m\u001b[0;34m\u001b[0m\u001b[0;34m\u001b[0m\u001b[0m\n\u001b[1;32m      5\u001b[0m \u001b[0mtest\u001b[0m\u001b[0;34m.\u001b[0m\u001b[0mhead\u001b[0m\u001b[0;34m(\u001b[0m\u001b[0;36m20\u001b[0m\u001b[0;34m)\u001b[0m\u001b[0;34m\u001b[0m\u001b[0;34m\u001b[0m\u001b[0m\n\u001b[0;32m----> 6\u001b[0;31m \u001b[0mx\u001b[0m \u001b[0;34m=\u001b[0m \u001b[0mtest\u001b[0m\u001b[0;34m[\u001b[0m\u001b[0;34m'Frequency'\u001b[0m\u001b[0;34m]\u001b[0m\u001b[0;34m\u001b[0m\u001b[0;34m\u001b[0m\u001b[0m\n\u001b[0m\u001b[1;32m      7\u001b[0m \u001b[0mstd\u001b[0m \u001b[0;34m=\u001b[0m \u001b[0mnp\u001b[0m\u001b[0;34m.\u001b[0m\u001b[0mstd\u001b[0m\u001b[0;34m(\u001b[0m\u001b[0mx\u001b[0m\u001b[0;34m)\u001b[0m\u001b[0;34m\u001b[0m\u001b[0;34m\u001b[0m\u001b[0m\n\u001b[1;32m      8\u001b[0m \u001b[0mprint\u001b[0m\u001b[0;34m(\u001b[0m\u001b[0mstd\u001b[0m\u001b[0;34m)\u001b[0m\u001b[0;34m\u001b[0m\u001b[0;34m\u001b[0m\u001b[0m\n",
      "\u001b[0;32m/Applications/anaconda3/lib/python3.7/site-packages/pandas/core/frame.py\u001b[0m in \u001b[0;36m__getitem__\u001b[0;34m(self, key)\u001b[0m\n\u001b[1;32m   2978\u001b[0m             \u001b[0;32mif\u001b[0m \u001b[0mself\u001b[0m\u001b[0;34m.\u001b[0m\u001b[0mcolumns\u001b[0m\u001b[0;34m.\u001b[0m\u001b[0mnlevels\u001b[0m \u001b[0;34m>\u001b[0m \u001b[0;36m1\u001b[0m\u001b[0;34m:\u001b[0m\u001b[0;34m\u001b[0m\u001b[0;34m\u001b[0m\u001b[0m\n\u001b[1;32m   2979\u001b[0m                 \u001b[0;32mreturn\u001b[0m \u001b[0mself\u001b[0m\u001b[0;34m.\u001b[0m\u001b[0m_getitem_multilevel\u001b[0m\u001b[0;34m(\u001b[0m\u001b[0mkey\u001b[0m\u001b[0;34m)\u001b[0m\u001b[0;34m\u001b[0m\u001b[0;34m\u001b[0m\u001b[0m\n\u001b[0;32m-> 2980\u001b[0;31m             \u001b[0mindexer\u001b[0m \u001b[0;34m=\u001b[0m \u001b[0mself\u001b[0m\u001b[0;34m.\u001b[0m\u001b[0mcolumns\u001b[0m\u001b[0;34m.\u001b[0m\u001b[0mget_loc\u001b[0m\u001b[0;34m(\u001b[0m\u001b[0mkey\u001b[0m\u001b[0;34m)\u001b[0m\u001b[0;34m\u001b[0m\u001b[0;34m\u001b[0m\u001b[0m\n\u001b[0m\u001b[1;32m   2981\u001b[0m             \u001b[0;32mif\u001b[0m \u001b[0mis_integer\u001b[0m\u001b[0;34m(\u001b[0m\u001b[0mindexer\u001b[0m\u001b[0;34m)\u001b[0m\u001b[0;34m:\u001b[0m\u001b[0;34m\u001b[0m\u001b[0;34m\u001b[0m\u001b[0m\n\u001b[1;32m   2982\u001b[0m                 \u001b[0mindexer\u001b[0m \u001b[0;34m=\u001b[0m \u001b[0;34m[\u001b[0m\u001b[0mindexer\u001b[0m\u001b[0;34m]\u001b[0m\u001b[0;34m\u001b[0m\u001b[0;34m\u001b[0m\u001b[0m\n",
      "\u001b[0;32m/Applications/anaconda3/lib/python3.7/site-packages/pandas/core/indexes/base.py\u001b[0m in \u001b[0;36mget_loc\u001b[0;34m(self, key, method, tolerance)\u001b[0m\n\u001b[1;32m   2897\u001b[0m                 \u001b[0;32mreturn\u001b[0m \u001b[0mself\u001b[0m\u001b[0;34m.\u001b[0m\u001b[0m_engine\u001b[0m\u001b[0;34m.\u001b[0m\u001b[0mget_loc\u001b[0m\u001b[0;34m(\u001b[0m\u001b[0mkey\u001b[0m\u001b[0;34m)\u001b[0m\u001b[0;34m\u001b[0m\u001b[0;34m\u001b[0m\u001b[0m\n\u001b[1;32m   2898\u001b[0m             \u001b[0;32mexcept\u001b[0m \u001b[0mKeyError\u001b[0m\u001b[0;34m:\u001b[0m\u001b[0;34m\u001b[0m\u001b[0;34m\u001b[0m\u001b[0m\n\u001b[0;32m-> 2899\u001b[0;31m                 \u001b[0;32mreturn\u001b[0m \u001b[0mself\u001b[0m\u001b[0;34m.\u001b[0m\u001b[0m_engine\u001b[0m\u001b[0;34m.\u001b[0m\u001b[0mget_loc\u001b[0m\u001b[0;34m(\u001b[0m\u001b[0mself\u001b[0m\u001b[0;34m.\u001b[0m\u001b[0m_maybe_cast_indexer\u001b[0m\u001b[0;34m(\u001b[0m\u001b[0mkey\u001b[0m\u001b[0;34m)\u001b[0m\u001b[0;34m)\u001b[0m\u001b[0;34m\u001b[0m\u001b[0;34m\u001b[0m\u001b[0m\n\u001b[0m\u001b[1;32m   2900\u001b[0m         \u001b[0mindexer\u001b[0m \u001b[0;34m=\u001b[0m \u001b[0mself\u001b[0m\u001b[0;34m.\u001b[0m\u001b[0mget_indexer\u001b[0m\u001b[0;34m(\u001b[0m\u001b[0;34m[\u001b[0m\u001b[0mkey\u001b[0m\u001b[0;34m]\u001b[0m\u001b[0;34m,\u001b[0m \u001b[0mmethod\u001b[0m\u001b[0;34m=\u001b[0m\u001b[0mmethod\u001b[0m\u001b[0;34m,\u001b[0m \u001b[0mtolerance\u001b[0m\u001b[0;34m=\u001b[0m\u001b[0mtolerance\u001b[0m\u001b[0;34m)\u001b[0m\u001b[0;34m\u001b[0m\u001b[0;34m\u001b[0m\u001b[0m\n\u001b[1;32m   2901\u001b[0m         \u001b[0;32mif\u001b[0m \u001b[0mindexer\u001b[0m\u001b[0;34m.\u001b[0m\u001b[0mndim\u001b[0m \u001b[0;34m>\u001b[0m \u001b[0;36m1\u001b[0m \u001b[0;32mor\u001b[0m \u001b[0mindexer\u001b[0m\u001b[0;34m.\u001b[0m\u001b[0msize\u001b[0m \u001b[0;34m>\u001b[0m \u001b[0;36m1\u001b[0m\u001b[0;34m:\u001b[0m\u001b[0;34m\u001b[0m\u001b[0;34m\u001b[0m\u001b[0m\n",
      "\u001b[0;32mpandas/_libs/index.pyx\u001b[0m in \u001b[0;36mpandas._libs.index.IndexEngine.get_loc\u001b[0;34m()\u001b[0m\n",
      "\u001b[0;32mpandas/_libs/index.pyx\u001b[0m in \u001b[0;36mpandas._libs.index.IndexEngine.get_loc\u001b[0;34m()\u001b[0m\n",
      "\u001b[0;32mpandas/_libs/hashtable_class_helper.pxi\u001b[0m in \u001b[0;36mpandas._libs.hashtable.PyObjectHashTable.get_item\u001b[0;34m()\u001b[0m\n",
      "\u001b[0;32mpandas/_libs/hashtable_class_helper.pxi\u001b[0m in \u001b[0;36mpandas._libs.hashtable.PyObjectHashTable.get_item\u001b[0;34m()\u001b[0m\n",
      "\u001b[0;31mKeyError\u001b[0m: 'Frequency'"
     ]
    }
   ],
   "source": [
    "import numpy as np\n",
    "test= pd.read_csv('H_Clinton-emails.csv')\n",
    "test = test.fillna(0)\n",
    "#test = test.dropna()\n",
    "test.head(20)\n",
    "x = test['Frequency']\n",
    "std = np.std(x)\n",
    "print(std)\n"
   ]
  },
  {
   "cell_type": "code",
   "execution_count": 38,
   "metadata": {},
   "outputs": [
    {
     "data": {
      "text/html": [
       "<div>\n",
       "<style scoped>\n",
       "    .dataframe tbody tr th:only-of-type {\n",
       "        vertical-align: middle;\n",
       "    }\n",
       "\n",
       "    .dataframe tbody tr th {\n",
       "        vertical-align: top;\n",
       "    }\n",
       "\n",
       "    .dataframe thead th {\n",
       "        text-align: right;\n",
       "    }\n",
       "</style>\n",
       "<table border=\"1\" class=\"dataframe\">\n",
       "  <thead>\n",
       "    <tr style=\"text-align: right;\">\n",
       "      <th></th>\n",
       "      <th>Order</th>\n",
       "      <th>Name</th>\n",
       "      <th>Frequency</th>\n",
       "    </tr>\n",
       "  </thead>\n",
       "  <tbody>\n",
       "    <tr>\n",
       "      <th>5</th>\n",
       "      <td>6.0</td>\n",
       "      <td>f</td>\n",
       "      <td>NaN</td>\n",
       "    </tr>\n",
       "    <tr>\n",
       "      <th>6</th>\n",
       "      <td>7.0</td>\n",
       "      <td>g</td>\n",
       "      <td>2.254559</td>\n",
       "    </tr>\n",
       "    <tr>\n",
       "      <th>7</th>\n",
       "      <td>NaN</td>\n",
       "      <td>h</td>\n",
       "      <td>3.735937</td>\n",
       "    </tr>\n",
       "    <tr>\n",
       "      <th>8</th>\n",
       "      <td>9.0</td>\n",
       "      <td>i</td>\n",
       "      <td>6.586651</td>\n",
       "    </tr>\n",
       "    <tr>\n",
       "      <th>9</th>\n",
       "      <td>10.0</td>\n",
       "      <td>j</td>\n",
       "      <td>9.863590</td>\n",
       "    </tr>\n",
       "  </tbody>\n",
       "</table>\n",
       "</div>"
      ],
      "text/plain": [
       "   Order Name  Frequency\n",
       "5    6.0    f        NaN\n",
       "6    7.0    g   2.254559\n",
       "7    NaN    h   3.735937\n",
       "8    9.0    i   6.586651\n",
       "9   10.0    j   9.863590"
      ]
     },
     "execution_count": 38,
     "metadata": {},
     "output_type": "execute_result"
    }
   ],
   "source": [
    "test.tail()"
   ]
  },
  {
   "cell_type": "code",
   "execution_count": 34,
   "metadata": {},
   "outputs": [
    {
     "data": {
      "text/html": [
       "<div>\n",
       "<style scoped>\n",
       "    .dataframe tbody tr th:only-of-type {\n",
       "        vertical-align: middle;\n",
       "    }\n",
       "\n",
       "    .dataframe tbody tr th {\n",
       "        vertical-align: top;\n",
       "    }\n",
       "\n",
       "    .dataframe thead th {\n",
       "        text-align: right;\n",
       "    }\n",
       "</style>\n",
       "<table border=\"1\" class=\"dataframe\">\n",
       "  <thead>\n",
       "    <tr style=\"text-align: right;\">\n",
       "      <th></th>\n",
       "      <th>x1</th>\n",
       "      <th>x2</th>\n",
       "      <th>x3</th>\n",
       "      <th>x4</th>\n",
       "      <th>x5</th>\n",
       "      <th>x6</th>\n",
       "      <th>x7</th>\n",
       "      <th>x8</th>\n",
       "      <th>x9</th>\n",
       "      <th>x10</th>\n",
       "      <th>y</th>\n",
       "    </tr>\n",
       "  </thead>\n",
       "  <tbody>\n",
       "    <tr>\n",
       "      <th>0</th>\n",
       "      <td>0.01</td>\n",
       "      <td>7.36</td>\n",
       "      <td>117.75</td>\n",
       "      <td>114.62</td>\n",
       "      <td>1</td>\n",
       "      <td>0</td>\n",
       "      <td>0.0</td>\n",
       "      <td>75</td>\n",
       "      <td>316.46</td>\n",
       "      <td>2.169000</td>\n",
       "      <td>3.965913</td>\n",
       "    </tr>\n",
       "    <tr>\n",
       "      <th>1</th>\n",
       "      <td>0.01</td>\n",
       "      <td>6.19</td>\n",
       "      <td>17.90</td>\n",
       "      <td>17.64</td>\n",
       "      <td>0</td>\n",
       "      <td>0</td>\n",
       "      <td>0.0</td>\n",
       "      <td>90</td>\n",
       "      <td>408.93</td>\n",
       "      <td>2.417221</td>\n",
       "      <td>4.096611</td>\n",
       "    </tr>\n",
       "    <tr>\n",
       "      <th>2</th>\n",
       "      <td>0.01</td>\n",
       "      <td>6.19</td>\n",
       "      <td>10.04</td>\n",
       "      <td>9.58</td>\n",
       "      <td>0</td>\n",
       "      <td>0</td>\n",
       "      <td>0.0</td>\n",
       "      <td>90</td>\n",
       "      <td>289.56</td>\n",
       "      <td>2.417221</td>\n",
       "      <td>5.925502</td>\n",
       "    </tr>\n",
       "    <tr>\n",
       "      <th>3</th>\n",
       "      <td>0.01</td>\n",
       "      <td>6.19</td>\n",
       "      <td>13.24</td>\n",
       "      <td>12.90</td>\n",
       "      <td>0</td>\n",
       "      <td>0</td>\n",
       "      <td>0.0</td>\n",
       "      <td>90</td>\n",
       "      <td>256.82</td>\n",
       "      <td>2.417221</td>\n",
       "      <td>5.582139</td>\n",
       "    </tr>\n",
       "    <tr>\n",
       "      <th>4</th>\n",
       "      <td>0.01</td>\n",
       "      <td>6.19</td>\n",
       "      <td>16.24</td>\n",
       "      <td>15.96</td>\n",
       "      <td>0</td>\n",
       "      <td>0</td>\n",
       "      <td>0.0</td>\n",
       "      <td>90</td>\n",
       "      <td>527.92</td>\n",
       "      <td>2.417221</td>\n",
       "      <td>5.674701</td>\n",
       "    </tr>\n",
       "  </tbody>\n",
       "</table>\n",
       "</div>"
      ],
      "text/plain": [
       "     x1    x2      x3      x4  x5  x6   x7  x8      x9       x10         y\n",
       "0  0.01  7.36  117.75  114.62   1   0  0.0  75  316.46  2.169000  3.965913\n",
       "1  0.01  6.19   17.90   17.64   0   0  0.0  90  408.93  2.417221  4.096611\n",
       "2  0.01  6.19   10.04    9.58   0   0  0.0  90  289.56  2.417221  5.925502\n",
       "3  0.01  6.19   13.24   12.90   0   0  0.0  90  256.82  2.417221  5.582139\n",
       "4  0.01  6.19   16.24   15.96   0   0  0.0  90  527.92  2.417221  5.674701"
      ]
     },
     "execution_count": 34,
     "metadata": {},
     "output_type": "execute_result"
    }
   ],
   "source": [
    "df1= pd.read_csv(file,sep =',')# if the data is not clean and has \",\" between them so we use the seperator\n",
    "df1.head()"
   ]
  },
  {
   "cell_type": "code",
   "execution_count": 38,
   "metadata": {},
   "outputs": [
    {
     "data": {
      "text/html": [
       "<div>\n",
       "<style scoped>\n",
       "    .dataframe tbody tr th:only-of-type {\n",
       "        vertical-align: middle;\n",
       "    }\n",
       "\n",
       "    .dataframe tbody tr th {\n",
       "        vertical-align: top;\n",
       "    }\n",
       "\n",
       "    .dataframe thead th {\n",
       "        text-align: right;\n",
       "    }\n",
       "</style>\n",
       "<table border=\"1\" class=\"dataframe\">\n",
       "  <thead>\n",
       "    <tr style=\"text-align: right;\">\n",
       "      <th></th>\n",
       "      <th>x1</th>\n",
       "      <th>x2</th>\n",
       "      <th>x3</th>\n",
       "      <th>x4</th>\n",
       "      <th>x5</th>\n",
       "      <th>x6</th>\n",
       "      <th>x7</th>\n",
       "      <th>x8</th>\n",
       "      <th>x9</th>\n",
       "      <th>x10</th>\n",
       "      <th>y</th>\n",
       "    </tr>\n",
       "  </thead>\n",
       "  <tbody>\n",
       "    <tr>\n",
       "      <th>0</th>\n",
       "      <td>0.01</td>\n",
       "      <td>7.36</td>\n",
       "      <td>117.75</td>\n",
       "      <td>114.62</td>\n",
       "      <td>1</td>\n",
       "      <td>0</td>\n",
       "      <td>0.0</td>\n",
       "      <td>75</td>\n",
       "      <td>316.46</td>\n",
       "      <td>2.169000</td>\n",
       "      <td>3.965913</td>\n",
       "    </tr>\n",
       "    <tr>\n",
       "      <th>1</th>\n",
       "      <td>0.01</td>\n",
       "      <td>6.19</td>\n",
       "      <td>17.90</td>\n",
       "      <td>17.64</td>\n",
       "      <td>0</td>\n",
       "      <td>0</td>\n",
       "      <td>0.0</td>\n",
       "      <td>90</td>\n",
       "      <td>408.93</td>\n",
       "      <td>2.417221</td>\n",
       "      <td>4.096611</td>\n",
       "    </tr>\n",
       "    <tr>\n",
       "      <th>2</th>\n",
       "      <td>0.01</td>\n",
       "      <td>6.19</td>\n",
       "      <td>10.04</td>\n",
       "      <td>9.58</td>\n",
       "      <td>0</td>\n",
       "      <td>0</td>\n",
       "      <td>0.0</td>\n",
       "      <td>90</td>\n",
       "      <td>289.56</td>\n",
       "      <td>2.417221</td>\n",
       "      <td>5.925502</td>\n",
       "    </tr>\n",
       "    <tr>\n",
       "      <th>3</th>\n",
       "      <td>0.01</td>\n",
       "      <td>6.19</td>\n",
       "      <td>13.24</td>\n",
       "      <td>12.90</td>\n",
       "      <td>0</td>\n",
       "      <td>0</td>\n",
       "      <td>0.0</td>\n",
       "      <td>90</td>\n",
       "      <td>256.82</td>\n",
       "      <td>2.417221</td>\n",
       "      <td>5.582139</td>\n",
       "    </tr>\n",
       "    <tr>\n",
       "      <th>4</th>\n",
       "      <td>0.01</td>\n",
       "      <td>6.19</td>\n",
       "      <td>16.24</td>\n",
       "      <td>15.96</td>\n",
       "      <td>0</td>\n",
       "      <td>0</td>\n",
       "      <td>0.0</td>\n",
       "      <td>90</td>\n",
       "      <td>527.92</td>\n",
       "      <td>2.417221</td>\n",
       "      <td>5.674701</td>\n",
       "    </tr>\n",
       "  </tbody>\n",
       "</table>\n",
       "</div>"
      ],
      "text/plain": [
       "     x1    x2      x3      x4  x5  x6   x7  x8      x9       x10         y\n",
       "0  0.01  7.36  117.75  114.62   1   0  0.0  75  316.46  2.169000  3.965913\n",
       "1  0.01  6.19   17.90   17.64   0   0  0.0  90  408.93  2.417221  4.096611\n",
       "2  0.01  6.19   10.04    9.58   0   0  0.0  90  289.56  2.417221  5.925502\n",
       "3  0.01  6.19   13.24   12.90   0   0  0.0  90  256.82  2.417221  5.582139\n",
       "4  0.01  6.19   16.24   15.96   0   0  0.0  90  527.92  2.417221  5.674701"
      ]
     },
     "execution_count": 38,
     "metadata": {},
     "output_type": "execute_result"
    }
   ],
   "source": [
    "df1= pd.read_csv('TODO.txt',sep ='\\t')# if the data is in text format\n",
    "df1.head()"
   ]
  },
  {
   "cell_type": "markdown",
   "metadata": {},
   "source": [
    "# reading Excel file"
   ]
  },
  {
   "cell_type": "code",
   "execution_count": 19,
   "metadata": {},
   "outputs": [
    {
     "data": {
      "text/plain": [
       "'/Users/zackedwards/OneDrive - stevens.edu/EM224 python'"
      ]
     },
     "execution_count": 19,
     "metadata": {},
     "output_type": "execute_result"
    }
   ],
   "source": [
    "import os\n",
    "os.getcwd()"
   ]
  },
  {
   "cell_type": "code",
   "execution_count": 51,
   "metadata": {},
   "outputs": [
    {
     "name": "stdout",
     "output_type": "stream",
     "text": [
      "['Sheet1']\n"
     ]
    }
   ],
   "source": [
    "file = 'Regression Data-1.xlsx'\n",
    "x1 = pd.ExcelFile(file) # open the file\n",
    "print(x1.sheet_names) # go through different sheets"
   ]
  },
  {
   "cell_type": "code",
   "execution_count": 52,
   "metadata": {
    "scrolled": true
   },
   "outputs": [
    {
     "data": {
      "text/html": [
       "<div>\n",
       "<style scoped>\n",
       "    .dataframe tbody tr th:only-of-type {\n",
       "        vertical-align: middle;\n",
       "    }\n",
       "\n",
       "    .dataframe tbody tr th {\n",
       "        vertical-align: top;\n",
       "    }\n",
       "\n",
       "    .dataframe thead th {\n",
       "        text-align: right;\n",
       "    }\n",
       "</style>\n",
       "<table border=\"1\" class=\"dataframe\">\n",
       "  <thead>\n",
       "    <tr style=\"text-align: right;\">\n",
       "      <th></th>\n",
       "      <th>Unnamed: 0</th>\n",
       "      <th>Independent Variables</th>\n",
       "      <th>Unnamed: 2</th>\n",
       "      <th>Unnamed: 3</th>\n",
       "      <th>Unnamed: 4</th>\n",
       "      <th>Unnamed: 5</th>\n",
       "      <th>Unnamed: 6</th>\n",
       "      <th>Unnamed: 7</th>\n",
       "      <th>Unnamed: 8</th>\n",
       "      <th>Unnamed: 9</th>\n",
       "      <th>Unnamed: 10</th>\n",
       "      <th>Unnamed: 11</th>\n",
       "    </tr>\n",
       "  </thead>\n",
       "  <tbody>\n",
       "    <tr>\n",
       "      <th>0</th>\n",
       "      <td>NaN</td>\n",
       "      <td>T</td>\n",
       "      <td>Mw</td>\n",
       "      <td>Rrup (km)</td>\n",
       "      <td>Rjb (km)</td>\n",
       "      <td>FRV</td>\n",
       "      <td>FNM</td>\n",
       "      <td>ZTOR</td>\n",
       "      <td>δ</td>\n",
       "      <td>Vs_30</td>\n",
       "      <td>Z2.5 (km)</td>\n",
       "      <td>Ln(Sa)</td>\n",
       "    </tr>\n",
       "    <tr>\n",
       "      <th>1</th>\n",
       "      <td>NaN</td>\n",
       "      <td>x1</td>\n",
       "      <td>x2</td>\n",
       "      <td>x3</td>\n",
       "      <td>x4</td>\n",
       "      <td>x5</td>\n",
       "      <td>x6</td>\n",
       "      <td>x7</td>\n",
       "      <td>x8</td>\n",
       "      <td>x9</td>\n",
       "      <td>x10</td>\n",
       "      <td>y</td>\n",
       "    </tr>\n",
       "    <tr>\n",
       "      <th>2</th>\n",
       "      <td>NaN</td>\n",
       "      <td>0.01</td>\n",
       "      <td>7.36</td>\n",
       "      <td>117.75</td>\n",
       "      <td>114.62</td>\n",
       "      <td>1</td>\n",
       "      <td>0</td>\n",
       "      <td>0</td>\n",
       "      <td>75</td>\n",
       "      <td>316.46</td>\n",
       "      <td>2.169</td>\n",
       "      <td>3.96591</td>\n",
       "    </tr>\n",
       "    <tr>\n",
       "      <th>3</th>\n",
       "      <td>NaN</td>\n",
       "      <td>0.01</td>\n",
       "      <td>6.19</td>\n",
       "      <td>17.9</td>\n",
       "      <td>17.64</td>\n",
       "      <td>0</td>\n",
       "      <td>0</td>\n",
       "      <td>0</td>\n",
       "      <td>90</td>\n",
       "      <td>408.93</td>\n",
       "      <td>2.41722</td>\n",
       "      <td>4.09661</td>\n",
       "    </tr>\n",
       "    <tr>\n",
       "      <th>4</th>\n",
       "      <td>NaN</td>\n",
       "      <td>0.01</td>\n",
       "      <td>6.19</td>\n",
       "      <td>10.04</td>\n",
       "      <td>9.58</td>\n",
       "      <td>0</td>\n",
       "      <td>0</td>\n",
       "      <td>0</td>\n",
       "      <td>90</td>\n",
       "      <td>289.56</td>\n",
       "      <td>2.41722</td>\n",
       "      <td>5.9255</td>\n",
       "    </tr>\n",
       "  </tbody>\n",
       "</table>\n",
       "</div>"
      ],
      "text/plain": [
       "   Unnamed: 0 Independent Variables Unnamed: 2 Unnamed: 3 Unnamed: 4  \\\n",
       "0         NaN                     T         Mw  Rrup (km)   Rjb (km)   \n",
       "1         NaN                    x1         x2         x3         x4   \n",
       "2         NaN                  0.01       7.36     117.75     114.62   \n",
       "3         NaN                  0.01       6.19       17.9      17.64   \n",
       "4         NaN                  0.01       6.19      10.04       9.58   \n",
       "\n",
       "  Unnamed: 5 Unnamed: 6 Unnamed: 7 Unnamed: 8 Unnamed: 9 Unnamed: 10  \\\n",
       "0        FRV        FNM       ZTOR          δ      Vs_30   Z2.5 (km)   \n",
       "1         x5         x6         x7         x8         x9         x10   \n",
       "2          1          0          0         75     316.46       2.169   \n",
       "3          0          0          0         90     408.93     2.41722   \n",
       "4          0          0          0         90     289.56     2.41722   \n",
       "\n",
       "  Unnamed: 11  \n",
       "0      Ln(Sa)  \n",
       "1           y  \n",
       "2     3.96591  \n",
       "3     4.09661  \n",
       "4      5.9255  "
      ]
     },
     "execution_count": 52,
     "metadata": {},
     "output_type": "execute_result"
    }
   ],
   "source": [
    "df1 = x1.parse('Sheet1') # load a sheet to a data frame\n",
    "df1.head()"
   ]
  },
  {
   "cell_type": "markdown",
   "metadata": {},
   "source": [
    "# Reading JSON"
   ]
  },
  {
   "cell_type": "code",
   "execution_count": 49,
   "metadata": {
    "collapsed": true,
    "jupyter": {
     "outputs_hidden": true
    }
   },
   "outputs": [],
   "source": [
    "import json"
   ]
  },
  {
   "cell_type": "code",
   "execution_count": 56,
   "metadata": {},
   "outputs": [
    {
     "data": {
      "text/html": [
       "<div>\n",
       "<style scoped>\n",
       "    .dataframe tbody tr th:only-of-type {\n",
       "        vertical-align: middle;\n",
       "    }\n",
       "\n",
       "    .dataframe tbody tr th {\n",
       "        vertical-align: top;\n",
       "    }\n",
       "\n",
       "    .dataframe thead th {\n",
       "        text-align: right;\n",
       "    }\n",
       "</style>\n",
       "<table border=\"1\" class=\"dataframe\">\n",
       "  <thead>\n",
       "    <tr style=\"text-align: right;\">\n",
       "      <th></th>\n",
       "      <th>Area ha (acre)</th>\n",
       "      <th>Criteria</th>\n",
       "      <th>Description</th>\n",
       "      <th>Image</th>\n",
       "      <th>Location</th>\n",
       "      <th>Site</th>\n",
       "      <th>Year</th>\n",
       "    </tr>\n",
       "  </thead>\n",
       "  <tbody>\n",
       "    <tr>\n",
       "      <th>0</th>\n",
       "      <td>135 (330)</td>\n",
       "      <td>Cultural: (ii)(iii)</td>\n",
       "      <td></td>\n",
       "      <td>/wiki/File:MuryeongsTomb.jpg</td>\n",
       "      <td>South Chungcheong, North Jeolla</td>\n",
       "      <td>Baekje Historic Areas</td>\n",
       "      <td>2015</td>\n",
       "    </tr>\n",
       "    <tr>\n",
       "      <th>1</th>\n",
       "      <td></td>\n",
       "      <td>Cultural: (iii)</td>\n",
       "      <td></td>\n",
       "      <td>/wiki/File:Korea-Gwangju-Gochang_Dolmens_5350-...</td>\n",
       "      <td>Incheon, North Jeolla, South Jeolla</td>\n",
       "      <td>Gochang, Hwasun and Ganghwa Dolmen Sites</td>\n",
       "      <td>2000</td>\n",
       "    </tr>\n",
       "  </tbody>\n",
       "</table>\n",
       "</div>"
      ],
      "text/plain": [
       "  Area ha (acre)             Criteria Description  \\\n",
       "0      135 (330)  Cultural: (ii)(iii)               \n",
       "1                     Cultural: (iii)               \n",
       "\n",
       "                                               Image  \\\n",
       "0                       /wiki/File:MuryeongsTomb.jpg   \n",
       "1  /wiki/File:Korea-Gwangju-Gochang_Dolmens_5350-...   \n",
       "\n",
       "                              Location  \\\n",
       "0      South Chungcheong, North Jeolla   \n",
       "1  Incheon, North Jeolla, South Jeolla   \n",
       "\n",
       "                                       Site  Year  \n",
       "0                     Baekje Historic Areas  2015  \n",
       "1  Gochang, Hwasun and Ganghwa Dolmen Sites  2000  "
      ]
     },
     "execution_count": 56,
     "metadata": {},
     "output_type": "execute_result"
    }
   ],
   "source": [
    "df= pd.read_json('skorea.json')\n",
    "df.head(2)"
   ]
  },
  {
   "cell_type": "code",
   "execution_count": 57,
   "metadata": {},
   "outputs": [
    {
     "data": {
      "text/plain": [
       "(12, 7)"
      ]
     },
     "execution_count": 57,
     "metadata": {},
     "output_type": "execute_result"
    }
   ],
   "source": [
    "df.shape"
   ]
  },
  {
   "cell_type": "code",
   "execution_count": 60,
   "metadata": {},
   "outputs": [
    {
     "data": {
      "text/html": [
       "<div>\n",
       "<style scoped>\n",
       "    .dataframe tbody tr th:only-of-type {\n",
       "        vertical-align: middle;\n",
       "    }\n",
       "\n",
       "    .dataframe tbody tr th {\n",
       "        vertical-align: top;\n",
       "    }\n",
       "\n",
       "    .dataframe thead th {\n",
       "        text-align: right;\n",
       "    }\n",
       "</style>\n",
       "<table border=\"1\" class=\"dataframe\">\n",
       "  <thead>\n",
       "    <tr style=\"text-align: right;\">\n",
       "      <th></th>\n",
       "      <th>assignee</th>\n",
       "      <th>assignees</th>\n",
       "      <th>author_association</th>\n",
       "      <th>body</th>\n",
       "      <th>closed_at</th>\n",
       "      <th>comments</th>\n",
       "      <th>comments_url</th>\n",
       "      <th>created_at</th>\n",
       "      <th>events_url</th>\n",
       "      <th>html_url</th>\n",
       "      <th>...</th>\n",
       "      <th>milestone</th>\n",
       "      <th>node_id</th>\n",
       "      <th>number</th>\n",
       "      <th>pull_request</th>\n",
       "      <th>repository_url</th>\n",
       "      <th>state</th>\n",
       "      <th>title</th>\n",
       "      <th>updated_at</th>\n",
       "      <th>url</th>\n",
       "      <th>user</th>\n",
       "    </tr>\n",
       "  </thead>\n",
       "  <tbody>\n",
       "    <tr>\n",
       "      <th>0</th>\n",
       "      <td>NaN</td>\n",
       "      <td>[]</td>\n",
       "      <td>CONTRIBUTOR</td>\n",
       "      <td>closes #25511\\r\\n</td>\n",
       "      <td>NaT</td>\n",
       "      <td>1</td>\n",
       "      <td>https://api.github.com/repos/pandas-dev/pandas...</td>\n",
       "      <td>2019-03-02 17:02:48</td>\n",
       "      <td>https://api.github.com/repos/pandas-dev/pandas...</td>\n",
       "      <td>https://github.com/pandas-dev/pandas/pull/25517</td>\n",
       "      <td>...</td>\n",
       "      <td>{'url': 'https://api.github.com/repos/pandas-d...</td>\n",
       "      <td>MDExOlB1bGxSZXF1ZXN0MjU3Njc3MjU4</td>\n",
       "      <td>25517</td>\n",
       "      <td>{'url': 'https://api.github.com/repos/pandas-d...</td>\n",
       "      <td>https://api.github.com/repos/pandas-dev/pandas</td>\n",
       "      <td>open</td>\n",
       "      <td>TST: xfail non-writeable pytables tests with n...</td>\n",
       "      <td>2019-03-02 18:08:26</td>\n",
       "      <td>https://api.github.com/repos/pandas-dev/pandas...</td>\n",
       "      <td>{'login': 'jreback', 'id': 953992, 'node_id': ...</td>\n",
       "    </tr>\n",
       "    <tr>\n",
       "      <th>1</th>\n",
       "      <td>NaN</td>\n",
       "      <td>[]</td>\n",
       "      <td>CONTRIBUTOR</td>\n",
       "      <td>xref #24332</td>\n",
       "      <td>NaT</td>\n",
       "      <td>0</td>\n",
       "      <td>https://api.github.com/repos/pandas-dev/pandas...</td>\n",
       "      <td>2019-03-02 16:22:39</td>\n",
       "      <td>https://api.github.com/repos/pandas-dev/pandas...</td>\n",
       "      <td>https://github.com/pandas-dev/pandas/pull/25516</td>\n",
       "      <td>...</td>\n",
       "      <td>None</td>\n",
       "      <td>MDExOlB1bGxSZXF1ZXN0MjU3Njc0NzAz</td>\n",
       "      <td>25516</td>\n",
       "      <td>{'url': 'https://api.github.com/repos/pandas-d...</td>\n",
       "      <td>https://api.github.com/repos/pandas-dev/pandas</td>\n",
       "      <td>open</td>\n",
       "      <td>STY: use pytest.raises context manager (frame)</td>\n",
       "      <td>2019-03-02 16:22:39</td>\n",
       "      <td>https://api.github.com/repos/pandas-dev/pandas...</td>\n",
       "      <td>{'login': 'simonjayhawkins', 'id': 13159005, '...</td>\n",
       "    </tr>\n",
       "    <tr>\n",
       "      <th>2</th>\n",
       "      <td>NaN</td>\n",
       "      <td>[]</td>\n",
       "      <td>CONTRIBUTOR</td>\n",
       "      <td>see also #22705\\r\\n\\r\\n#### Code Sample, a cop...</td>\n",
       "      <td>NaT</td>\n",
       "      <td>0</td>\n",
       "      <td>https://api.github.com/repos/pandas-dev/pandas...</td>\n",
       "      <td>2019-03-02 12:05:39</td>\n",
       "      <td>https://api.github.com/repos/pandas-dev/pandas...</td>\n",
       "      <td>https://github.com/pandas-dev/pandas/issues/25515</td>\n",
       "      <td>...</td>\n",
       "      <td>None</td>\n",
       "      <td>MDU6SXNzdWU0MTYzOTA1OTk=</td>\n",
       "      <td>25515</td>\n",
       "      <td>NaN</td>\n",
       "      <td>https://api.github.com/repos/pandas-dev/pandas</td>\n",
       "      <td>open</td>\n",
       "      <td>BUG: inappropriate error message for DataFrame...</td>\n",
       "      <td>2019-03-02 12:05:39</td>\n",
       "      <td>https://api.github.com/repos/pandas-dev/pandas...</td>\n",
       "      <td>{'login': 'simonjayhawkins', 'id': 13159005, '...</td>\n",
       "    </tr>\n",
       "    <tr>\n",
       "      <th>3</th>\n",
       "      <td>NaN</td>\n",
       "      <td>[]</td>\n",
       "      <td>NONE</td>\n",
       "      <td>#### Code Sample\\r\\n\\r\\n```python\\r\\nimport nu...</td>\n",
       "      <td>NaT</td>\n",
       "      <td>0</td>\n",
       "      <td>https://api.github.com/repos/pandas-dev/pandas...</td>\n",
       "      <td>2019-03-01 20:11:25</td>\n",
       "      <td>https://api.github.com/repos/pandas-dev/pandas...</td>\n",
       "      <td>https://github.com/pandas-dev/pandas/issues/25514</td>\n",
       "      <td>...</td>\n",
       "      <td>None</td>\n",
       "      <td>MDU6SXNzdWU0MTYyNjEyMjM=</td>\n",
       "      <td>25514</td>\n",
       "      <td>NaN</td>\n",
       "      <td>https://api.github.com/repos/pandas-dev/pandas</td>\n",
       "      <td>open</td>\n",
       "      <td>Display precision doesn't affect complex float...</td>\n",
       "      <td>2019-03-01 20:12:54</td>\n",
       "      <td>https://api.github.com/repos/pandas-dev/pandas...</td>\n",
       "      <td>{'login': 'jay-pee', 'id': 9380980, 'node_id':...</td>\n",
       "    </tr>\n",
       "  </tbody>\n",
       "</table>\n",
       "<p>4 rows × 24 columns</p>\n",
       "</div>"
      ],
      "text/plain": [
       "   assignee assignees author_association  \\\n",
       "0       NaN        []        CONTRIBUTOR   \n",
       "1       NaN        []        CONTRIBUTOR   \n",
       "2       NaN        []        CONTRIBUTOR   \n",
       "3       NaN        []               NONE   \n",
       "\n",
       "                                                body closed_at  comments  \\\n",
       "0                                  closes #25511\\r\\n       NaT         1   \n",
       "1                                        xref #24332       NaT         0   \n",
       "2  see also #22705\\r\\n\\r\\n#### Code Sample, a cop...       NaT         0   \n",
       "3  #### Code Sample\\r\\n\\r\\n```python\\r\\nimport nu...       NaT         0   \n",
       "\n",
       "                                        comments_url          created_at  \\\n",
       "0  https://api.github.com/repos/pandas-dev/pandas... 2019-03-02 17:02:48   \n",
       "1  https://api.github.com/repos/pandas-dev/pandas... 2019-03-02 16:22:39   \n",
       "2  https://api.github.com/repos/pandas-dev/pandas... 2019-03-02 12:05:39   \n",
       "3  https://api.github.com/repos/pandas-dev/pandas... 2019-03-01 20:11:25   \n",
       "\n",
       "                                          events_url  \\\n",
       "0  https://api.github.com/repos/pandas-dev/pandas...   \n",
       "1  https://api.github.com/repos/pandas-dev/pandas...   \n",
       "2  https://api.github.com/repos/pandas-dev/pandas...   \n",
       "3  https://api.github.com/repos/pandas-dev/pandas...   \n",
       "\n",
       "                                            html_url  ...  \\\n",
       "0    https://github.com/pandas-dev/pandas/pull/25517  ...   \n",
       "1    https://github.com/pandas-dev/pandas/pull/25516  ...   \n",
       "2  https://github.com/pandas-dev/pandas/issues/25515  ...   \n",
       "3  https://github.com/pandas-dev/pandas/issues/25514  ...   \n",
       "\n",
       "                                           milestone  \\\n",
       "0  {'url': 'https://api.github.com/repos/pandas-d...   \n",
       "1                                               None   \n",
       "2                                               None   \n",
       "3                                               None   \n",
       "\n",
       "                            node_id number  \\\n",
       "0  MDExOlB1bGxSZXF1ZXN0MjU3Njc3MjU4  25517   \n",
       "1  MDExOlB1bGxSZXF1ZXN0MjU3Njc0NzAz  25516   \n",
       "2          MDU6SXNzdWU0MTYzOTA1OTk=  25515   \n",
       "3          MDU6SXNzdWU0MTYyNjEyMjM=  25514   \n",
       "\n",
       "                                        pull_request  \\\n",
       "0  {'url': 'https://api.github.com/repos/pandas-d...   \n",
       "1  {'url': 'https://api.github.com/repos/pandas-d...   \n",
       "2                                                NaN   \n",
       "3                                                NaN   \n",
       "\n",
       "                                   repository_url state  \\\n",
       "0  https://api.github.com/repos/pandas-dev/pandas  open   \n",
       "1  https://api.github.com/repos/pandas-dev/pandas  open   \n",
       "2  https://api.github.com/repos/pandas-dev/pandas  open   \n",
       "3  https://api.github.com/repos/pandas-dev/pandas  open   \n",
       "\n",
       "                                               title          updated_at  \\\n",
       "0  TST: xfail non-writeable pytables tests with n... 2019-03-02 18:08:26   \n",
       "1     STY: use pytest.raises context manager (frame) 2019-03-02 16:22:39   \n",
       "2  BUG: inappropriate error message for DataFrame... 2019-03-02 12:05:39   \n",
       "3  Display precision doesn't affect complex float... 2019-03-01 20:12:54   \n",
       "\n",
       "                                                 url  \\\n",
       "0  https://api.github.com/repos/pandas-dev/pandas...   \n",
       "1  https://api.github.com/repos/pandas-dev/pandas...   \n",
       "2  https://api.github.com/repos/pandas-dev/pandas...   \n",
       "3  https://api.github.com/repos/pandas-dev/pandas...   \n",
       "\n",
       "                                                user  \n",
       "0  {'login': 'jreback', 'id': 953992, 'node_id': ...  \n",
       "1  {'login': 'simonjayhawkins', 'id': 13159005, '...  \n",
       "2  {'login': 'simonjayhawkins', 'id': 13159005, '...  \n",
       "3  {'login': 'jay-pee', 'id': 9380980, 'node_id':...  \n",
       "\n",
       "[4 rows x 24 columns]"
      ]
     },
     "execution_count": 60,
     "metadata": {},
     "output_type": "execute_result"
    }
   ],
   "source": [
    "web = pd.read_json('https://api.github.com/repos/pydata/pandas/issues?per_page=5')\n",
    "web.head(4)"
   ]
  },
  {
   "cell_type": "markdown",
   "metadata": {},
   "source": [
    "#  reading Webpage"
   ]
  },
  {
   "cell_type": "code",
   "execution_count": 20,
   "metadata": {},
   "outputs": [],
   "source": [
    "import html5lib"
   ]
  },
  {
   "cell_type": "code",
   "execution_count": 22,
   "metadata": {},
   "outputs": [
    {
     "name": "stdout",
     "output_type": "stream",
     "text": [
      "<class 'list'>\n",
      "    Name &postal abbreviation[1]                                 \\\n",
      "    Name &postal abbreviation[1] Name &postal abbreviation[1].1   \n",
      "0                        Alabama                             AL   \n",
      "1                         Alaska                             AK   \n",
      "2                        Arizona                             AZ   \n",
      "3                       Arkansas                             AR   \n",
      "4                     California                             CA   \n",
      "5                       Colorado                             CO   \n",
      "6                    Connecticut                             CT   \n",
      "7                       Delaware                             DE   \n",
      "8                        Florida                             FL   \n",
      "9                        Georgia                             GA   \n",
      "10                        Hawaii                             HI   \n",
      "11                         Idaho                             ID   \n",
      "12                      Illinois                             IL   \n",
      "13                       Indiana                             IN   \n",
      "14                          Iowa                             IA   \n",
      "15                        Kansas                             KS   \n",
      "16       Kentucky[upper-alpha 3]                             KY   \n",
      "17                     Louisiana                             LA   \n",
      "18                         Maine                             ME   \n",
      "19                      Maryland                             MD   \n",
      "20  Massachusetts[upper-alpha 3]                             MA   \n",
      "21                      Michigan                             MI   \n",
      "22                     Minnesota                             MN   \n",
      "23                   Mississippi                             MS   \n",
      "24                      Missouri                             MO   \n",
      "25                       Montana                             MT   \n",
      "26                      Nebraska                             NE   \n",
      "27                        Nevada                             NV   \n",
      "28                 New Hampshire                             NH   \n",
      "29                    New Jersey                             NJ   \n",
      "30                    New Mexico                             NM   \n",
      "31                      New York                             NY   \n",
      "32                North Carolina                             NC   \n",
      "33                  North Dakota                             ND   \n",
      "34                          Ohio                             OH   \n",
      "35                      Oklahoma                             OK   \n",
      "36                        Oregon                             OR   \n",
      "37   Pennsylvania[upper-alpha 3]                             PA   \n",
      "38   Rhode Island[upper-alpha 4]                             RI   \n",
      "39                South Carolina                             SC   \n",
      "40                  South Dakota                             SD   \n",
      "41                     Tennessee                             TN   \n",
      "42                         Texas                             TX   \n",
      "43                          Utah                             UT   \n",
      "44                       Vermont                             VT   \n",
      "45       Virginia[upper-alpha 3]                             VA   \n",
      "46                    Washington                             WA   \n",
      "47                 West Virginia                             WV   \n",
      "48                     Wisconsin                             WI   \n",
      "49                       Wyoming                             WY   \n",
      "\n",
      "            Cities                 Established[upper-alpha 1]  \\\n",
      "           Capital      Largest[5] Established[upper-alpha 1]   \n",
      "0       Montgomery      Birmingham               Dec 14, 1819   \n",
      "1           Juneau       Anchorage                Jan 3, 1959   \n",
      "2          Phoenix         Phoenix               Feb 14, 1912   \n",
      "3      Little Rock     Little Rock               Jun 15, 1836   \n",
      "4       Sacramento     Los Angeles                Sep 9, 1850   \n",
      "5           Denver          Denver                Aug 1, 1876   \n",
      "6         Hartford      Bridgeport                Jan 9, 1788   \n",
      "7            Dover      Wilmington                Dec 7, 1787   \n",
      "8      Tallahassee    Jacksonville                Mar 3, 1845   \n",
      "9          Atlanta         Atlanta                Jan 2, 1788   \n",
      "10        Honolulu        Honolulu               Aug 21, 1959   \n",
      "11           Boise           Boise                Jul 3, 1890   \n",
      "12     Springfield         Chicago                Dec 3, 1818   \n",
      "13    Indianapolis    Indianapolis               Dec 11, 1816   \n",
      "14      Des Moines      Des Moines               Dec 28, 1846   \n",
      "15          Topeka         Wichita               Jan 29, 1861   \n",
      "16       Frankfort      Louisville                Jun 1, 1792   \n",
      "17     Baton Rouge     New Orleans               Apr 30, 1812   \n",
      "18         Augusta        Portland               Mar 15, 1820   \n",
      "19       Annapolis       Baltimore               Apr 28, 1788   \n",
      "20          Boston          Boston                Feb 6, 1788   \n",
      "21         Lansing         Detroit               Jan 26, 1837   \n",
      "22        St. Paul     Minneapolis               May 11, 1858   \n",
      "23         Jackson         Jackson               Dec 10, 1817   \n",
      "24  Jefferson City     Kansas City               Aug 10, 1821   \n",
      "25          Helena        Billings                Nov 8, 1889   \n",
      "26         Lincoln           Omaha                Mar 1, 1867   \n",
      "27     Carson City       Las Vegas               Oct 31, 1864   \n",
      "28         Concord      Manchester               Jun 21, 1788   \n",
      "29         Trenton          Newark               Dec 18, 1787   \n",
      "30        Santa Fe     Albuquerque                Jan 6, 1912   \n",
      "31          Albany        New York               Jul 26, 1788   \n",
      "32         Raleigh       Charlotte               Nov 21, 1789   \n",
      "33        Bismarck           Fargo                Nov 2, 1889   \n",
      "34        Columbus        Columbus                Mar 1, 1803   \n",
      "35   Oklahoma City   Oklahoma City               Nov 16, 1907   \n",
      "36           Salem        Portland               Feb 14, 1859   \n",
      "37      Harrisburg    Philadelphia               Dec 12, 1787   \n",
      "38      Providence      Providence               May 29, 1790   \n",
      "39        Columbia      Charleston               May 23, 1788   \n",
      "40          Pierre     Sioux Falls                Nov 2, 1889   \n",
      "41       Nashville       Nashville                Jun 1, 1796   \n",
      "42          Austin         Houston               Dec 29, 1845   \n",
      "43  Salt Lake City  Salt Lake City                Jan 4, 1896   \n",
      "44      Montpelier      Burlington                Mar 4, 1791   \n",
      "45        Richmond  Virginia Beach               Jun 25, 1788   \n",
      "46         Olympia         Seattle               Nov 11, 1889   \n",
      "47      Charleston      Charleston               Jun 20, 1863   \n",
      "48         Madison       Milwaukee               May 29, 1848   \n",
      "49        Cheyenne        Cheyenne               Jul 10, 1890   \n",
      "\n",
      "   Population[upper-alpha 2][3] Total area[4]          Land area[4]           \\\n",
      "   Population[upper-alpha 2][3]           mi2      km2          mi2      km2   \n",
      "0                       4903185         52420   135767        50645   131171   \n",
      "1                        731545        665384  1723337       570641  1477953   \n",
      "2                       7278717        113990   295234       113594   294207   \n",
      "3                       3017804         53179   137732        52035   134771   \n",
      "4                      39512223        163695   423967       155779   403466   \n",
      "5                       5758736        104094   269601       103642   268431   \n",
      "6                       3565278          5543    14357         4842    12542   \n",
      "7                        973764          2489     6446         1949     5047   \n",
      "8                      21477737         65758   170312        53625   138887   \n",
      "9                      10617423         59425   153910        57513   148959   \n",
      "10                      1415872         10932    28313         6423    16635   \n",
      "11                      1787065         83569   216443        82643   214045   \n",
      "12                     12671821         57914   149995        55519   143793   \n",
      "13                      6732219         36420    94326        35826    92789   \n",
      "14                      3155070         56273   145746        55857   144669   \n",
      "15                      2913314         82278   213100        81759   211754   \n",
      "16                      4467673         40408   104656        39486   102269   \n",
      "17                      4648794         52378   135659        43204   111898   \n",
      "18                      1344212         35380    91633        30843    79883   \n",
      "19                      6045680         12406    32131         9707    25142   \n",
      "20                      6892503         10554    27336         7800    20202   \n",
      "21                      9986857         96714   250487        56539   146435   \n",
      "22                      5639632         86936   225163        79627   206232   \n",
      "23                      2976149         48432   125438        46923   121531   \n",
      "24                      6137428         69707   180540        68742   178040   \n",
      "25                      1068778        147040   380831       145546   376962   \n",
      "26                      1934408         77348   200330        76824   198974   \n",
      "27                      3080156        110572   286380       109781   284332   \n",
      "28                      1359711          9349    24214         8953    23187   \n",
      "29                      8882190          8723    22591         7354    19047   \n",
      "30                      2096829        121590   314917       121298   314161   \n",
      "31                     19453561         54555   141297        47126   122057   \n",
      "32                     10488084         53819   139391        48618   125920   \n",
      "33                       762062         70698   183108        69001   178711   \n",
      "34                     11689100         44826   116098        40861   105829   \n",
      "35                      3956971         69899   181037        68595   177660   \n",
      "36                      4217737         98379   254799        95988   248608   \n",
      "37                     12801989         46054   119280        44743   115883   \n",
      "38                      1059361          1545     4001         1034     2678   \n",
      "39                      5148714         32020    82933        30061    77857   \n",
      "40                       884659         77116   199729        75811   196350   \n",
      "41                      6829174         42144   109153        41235   106798   \n",
      "42                     28995881        268596   695662       261232   676587   \n",
      "43                      3205958         84897   219882        82170   212818   \n",
      "44                       623989          9616    24906         9217    23871   \n",
      "45                      8535519         42775   110787        39490   102279   \n",
      "46                      7614893         71298   184661        66456   172119   \n",
      "47                      1792147         24230    62756        24038    62259   \n",
      "48                      5822434         65496   169635        54158   140268   \n",
      "49                       578759         97813   253335        97093   251470   \n",
      "\n",
      "   Water area[4]         Numberof Reps.  \n",
      "             mi2     km2 Numberof Reps.  \n",
      "0           1775    4597              7  \n",
      "1          94743  245384              1  \n",
      "2            396    1026              9  \n",
      "3           1143    2961              4  \n",
      "4           7916   20501             53  \n",
      "5            452    1170              7  \n",
      "6            701    1816              5  \n",
      "7            540    1399              1  \n",
      "8          12133   31424             27  \n",
      "9           1912    4951             14  \n",
      "10          4509   11678              2  \n",
      "11           926    2398              2  \n",
      "12          2395    6202             18  \n",
      "13           593    1537              9  \n",
      "14           416    1077              4  \n",
      "15           520    1346              4  \n",
      "16           921    2387              6  \n",
      "17          9174   23761              6  \n",
      "18          4537   11750              2  \n",
      "19          2699    6990              8  \n",
      "20          2754    7134              9  \n",
      "21         40175  104052             14  \n",
      "22          7309   18930              8  \n",
      "23          1508    3907              4  \n",
      "24           965    2501              8  \n",
      "25          1494    3869              1  \n",
      "26           524    1356              3  \n",
      "27           791    2048              4  \n",
      "28           397    1027              2  \n",
      "29          1368    3544             12  \n",
      "30           292     757              3  \n",
      "31          7429   19240             27  \n",
      "32          5201   13471             13  \n",
      "33          1698    4397              1  \n",
      "34          3965   10269             16  \n",
      "35          1304    3377              5  \n",
      "36          2391    6191              5  \n",
      "37          1312    3397             18  \n",
      "38           511    1324              2  \n",
      "39          1960    5076              7  \n",
      "40          1305    3379              1  \n",
      "41           909    2355              9  \n",
      "42          7365   19075             36  \n",
      "43          2727    7064              4  \n",
      "44           400    1035              1  \n",
      "45          3285    8508             11  \n",
      "46          4842   12542             10  \n",
      "47           192     497              3  \n",
      "48         11339   29367              8  \n",
      "49           720    1864              1  \n"
     ]
    }
   ],
   "source": [
    "uss = pd.read_html('https://simple.wikipedia.org/wiki/List_of_U.S._states')\n",
    "u = uss[0]\n",
    "print(type(uss))\n",
    "print(u)"
   ]
  },
  {
   "cell_type": "code",
   "execution_count": 23,
   "metadata": {},
   "outputs": [],
   "source": [
    " #what if we have more than 1 table in my webpage? instead of [0] we take [1], this meanse eachtable will locate in a new location per t]list\n",
    "\n",
    "whsPH=pd.read_html('https://en.wikipedia.org/wiki/List_of_World_Heritage_Sites_in_the_Philippines') "
   ]
  },
  {
   "cell_type": "code",
   "execution_count": 24,
   "metadata": {},
   "outputs": [
    {
     "name": "stdout",
     "output_type": "stream",
     "text": [
      "                                                Name  Image  \\\n",
      "0  Baroque Churches of the Philippines: San Agust...    NaN   \n",
      "1                       Tubbataha Reefs Natural Park    NaN   \n",
      "2  Rice Terraces of the Philippine Cordilleras: B...    NaN   \n",
      "3                             Historic City of Vigan    NaN   \n",
      "4   Puerto Princesa Subterranean River National Park    NaN   \n",
      "5          Mount Hamiguitan Range Wildlife Sanctuary    NaN   \n",
      "\n",
      "                                           Location  \\\n",
      "0  City of Manila; Ilocos Sur; Ilocos Norte; Iloilo   \n",
      "1                                           Palawan   \n",
      "2                                            Ifugao   \n",
      "3                                        Ilocos Sur   \n",
      "4                                           Palawan   \n",
      "5                                    Davao Oriental   \n",
      "\n",
      "                              Regions  \\\n",
      "0  Manila; Ilocandia; Western Visayas   \n",
      "1                            Mimaropa   \n",
      "2                          Cordillera   \n",
      "3                           Ilocandia   \n",
      "4                            Mimaropa   \n",
      "5                               Davao   \n",
      "\n",
      "                                         UNESCO data             Period  \\\n",
      "0  1993 (inscription), 2013 (minor boundary modif...       16th century   \n",
      "1   1993 (inscription), 2009 (extension); vii, ix, x  Pleistocene Epoch   \n",
      "2                     1995 (inscription); iii, iv, v       16th century   \n",
      "3                         1999 (inscription); ii, iv       16th century   \n",
      "4                          1999 (inscription); vii,x  Pleistocene Epoch   \n",
      "5                              2014 (inscription); x  Pleistocene Epoch   \n",
      "\n",
      "                                         Description   Ref  \n",
      "0  All of the four baroque churches have been dec...   [5]  \n",
      "1  The site is an ASEAN Heritage Park, and a Rams...   [6]  \n",
      "2  The inscription includes 5 properties, namely,...   [7]  \n",
      "3  The site is also one of the New7Wonders Cities...   [8]  \n",
      "4  The site is one of the New7Wonders of Nature, ...   [9]  \n",
      "5        The site is a declared ASEAN Heritage Park.  [10]  \n"
     ]
    }
   ],
   "source": [
    "whs_phl = whsPH[0] #grab dataframe from index 1, table 2 of the tentative WHS sites\n",
    "print(whs_phl)"
   ]
  },
  {
   "cell_type": "code",
   "execution_count": 70,
   "metadata": {},
   "outputs": [
    {
     "name": "stdout",
     "output_type": "stream",
     "text": [
      "            Community Exclusive sites Shared sites\n",
      "0           Ilocandia               1            1\n",
      "1          Cordillera               1            —\n",
      "2      Cagayan Valley               —            —\n",
      "3       Central Luzon               —            —\n",
      "4              Manila               —            1\n",
      "5          Calabarzon               —            —\n",
      "6            Mimaropa               2            —\n",
      "7          Bicolandia               —            —\n",
      "8     Western Visayas               —            1\n",
      "9     Central Visayas               —            —\n",
      "10    Eastern Visayas               —            —\n",
      "11          Zamboanga               —            —\n",
      "12  Northern Mindanao               —            —\n",
      "13             Caraga               —            —\n",
      "14              Davao               1            —\n",
      "15       Soccsksargen               —            —\n",
      "16         Bangsamoro               —            —\n"
     ]
    }
   ],
   "source": [
    "whs_phl = whsPH[1] #grab dataframe from index 1, table 2 of the tentative WHS sites\n",
    "print(whs_phl)"
   ]
  },
  {
   "cell_type": "code",
   "execution_count": 71,
   "metadata": {},
   "outputs": [
    {
     "name": "stdout",
     "output_type": "stream",
     "text": [
      "                      Type (criteria)  \\\n",
      "0               Natural: (vii)(ix)(x)   \n",
      "1       Cultural: (i)(iii)(iv)(v)(vi)   \n",
      "2                               Mixed   \n",
      "3              Cultural: (iii)(iv)(v)   \n",
      "4                Natural: (vii)(viii)   \n",
      "5                 Mixed: (iii)(ix)(x)   \n",
      "6                    Natural: (ix)(x)   \n",
      "7   Cultural: (i)(ii)(iii)(iv)(v)(vi)   \n",
      "8                   Natural: (vii)(x)   \n",
      "9                    Natural: (ix)(x)   \n",
      "10              Natural: (vii)(ix)(x)   \n",
      "11                   Natural: (ix)(x)   \n",
      "12                   Natural: (ix)(x)   \n",
      "13         Cultural: (ii)(iii)(iv)(v)   \n",
      "14                   Natural: (ix)(x)   \n",
      "15         Cultural: (ii)(iii)(iv)(v)   \n",
      "16                    Cultural: (iii)   \n",
      "17         Cultural: (ii)(iii)(iv)(v)   \n",
      "18                   Natural: (ix)(x)   \n",
      "\n",
      "                                                 Site  \\\n",
      "0                               Apo Reef Natural Park   \n",
      "1   Baroque Churches of the Philippines (Extension...   \n",
      "2          Batanes Protected landscapes and seascapes   \n",
      "3                          Butuan Archeological Sites   \n",
      "4                    Chocolate Hills Natural Monument   \n",
      "5                    Coron Island Natural Biotic Area   \n",
      "6      El Nido-Taytay Managed Resource Protected Area   \n",
      "7                          Kabayan Mummy Burial Caves   \n",
      "8                  Mayon Volcano Natural Park (MMVNP)   \n",
      "9                     Mounts Iglit-Baco National Park   \n",
      "10                 Mount Malindang Range Natural Park   \n",
      "11            Mount Mantalingajan Protected Landscape   \n",
      "12                          Mount Pulag National Park   \n",
      "13  Neolithic Shell Midden Sites in Lal-lo and Gat...   \n",
      "14  Northern Sierra Madre Natural Park and outlyin...   \n",
      "15  Paleolithic Archaeological Sites in Cagayan Va...   \n",
      "16  Petroglyphs and Petrographs of the Philippines...   \n",
      "17           The Tabon Cave Complex and all of Lipuun   \n",
      "18                  Turtle Islands Wildlife Sanctuary   \n",
      "\n",
      "                              Location                        Period  \\\n",
      "0                             Sulu Sea             Pleistocene Epoch   \n",
      "1                    Various Locations        18th to 19th centuries   \n",
      "2                              Batanes  Pleistocene Epoch and 100 AD   \n",
      "3                     Agusan del Norte                  10th century   \n",
      "4                                Bohol             Pleistocene Epoch   \n",
      "5                              Palawan             Pleistocene Epoch   \n",
      "6                              Palawan             Pleistocene Epoch   \n",
      "7                              Benguet                        100 AD   \n",
      "8                                Albay             Pleistocene Epoch   \n",
      "9                              Mindoro             Pleistocene Epoch   \n",
      "10                  Misamis Occidental             Pleistocene Epoch   \n",
      "11                             Palawan             Pleistocene Epoch   \n",
      "12  Ifugao, Nueva Viscaya, and Benguet             Pleistocene Epoch   \n",
      "13                             Cagayan              Neolithic Period   \n",
      "14                             Isabela             Pleistocene Epoch   \n",
      "15                      Cagayan Valley            Paleolithic Period   \n",
      "16                  Multiple locations            Paleolithic Period   \n",
      "17                             Palawan            Paleolithic Period   \n",
      "18                           Tawi-Tawi             Pleistocene Epoch   \n",
      "\n",
      "                                          Description  Image   Ref  \n",
      "0   The site is the second biggest producer of juv...    NaN  [14]  \n",
      "1   All five baroque churches have been declared a...    NaN  [15]  \n",
      "2   The Mahatao Church of Batanes is a declared Na...    NaN  [16]  \n",
      "3   The site exemplified and concretized the capab...    NaN  [17]  \n",
      "4   The site is the focal property of the proposed...    NaN  [18]  \n",
      "5   The site is within the Palawan UNESCO Biospher...    NaN  [19]  \n",
      "6   The site is within the Palawan UNESCO Biospher...    NaN  [20]  \n",
      "7   The site has been listed by the World Monument...    NaN  [21]  \n",
      "8   The site is the central property of the Albay ...    NaN  [22]  \n",
      "9         The site is a declared ASEAN Heritage Park.    NaN  [23]  \n",
      "10        The site is a declared ASEAN Heritage Park.    NaN  [24]  \n",
      "11  The site is part of the Palawan UNESCO Biosphe...    NaN  [25]  \n",
      "12  The site is the third highest point in the Phi...    NaN  [26]  \n",
      "13  The site is the largest shell midden zone in t...    NaN  [27]  \n",
      "14  The site is the largest national park in the P...    NaN  [28]  \n",
      "15  The site includes the location where the bone ...    NaN  [29]  \n",
      "16  The sites in Singnapan, Alab, and Angono have ...    NaN  [30]  \n",
      "17  The site is a declared National Cultural Treas...    NaN  [31]  \n",
      "18  The site is a major green sea turtle breeding ...    NaN  [32]  \n"
     ]
    }
   ],
   "source": [
    "whs_phl = whsPH[2] #grab dataframe from index 1, table 2 of the tentative WHS sites\n",
    "print(whs_phl)"
   ]
  },
  {
   "cell_type": "code",
   "execution_count": null,
   "metadata": {
    "collapsed": true,
    "jupyter": {
     "outputs_hidden": true
    }
   },
   "outputs": [],
   "source": []
  }
 ],
 "metadata": {
  "kernelspec": {
   "display_name": "Python 3",
   "language": "python",
   "name": "python3"
  },
  "language_info": {
   "codemirror_mode": {
    "name": "ipython",
    "version": 3
   },
   "file_extension": ".py",
   "mimetype": "text/x-python",
   "name": "python",
   "nbconvert_exporter": "python",
   "pygments_lexer": "ipython3",
   "version": "3.7.4"
  }
 },
 "nbformat": 4,
 "nbformat_minor": 4
}
