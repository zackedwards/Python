{
 "cells": [
  {
   "cell_type": "code",
   "execution_count": 3,
   "metadata": {},
   "outputs": [
    {
     "name": "stdout",
     "output_type": "stream",
     "text": [
      "\n",
      "for word good sentiment is <good.a.03: PosScore=1.0 NegScore=0.0>\n",
      "\n",
      "for word great sentiment is <great.s.03: PosScore=0.25 NegScore=0.125>\n",
      "\n",
      "for word bad sentiment is <bad.s.03: PosScore=0.0 NegScore=0.75>\n",
      "\n",
      "for word terrible sentiment is <severe.s.01: PosScore=0.0 NegScore=0.875>\n",
      "\n",
      "for word happy sentiment is <glad.s.02: PosScore=0.5 NegScore=0.0>\n",
      "\n",
      "for word sad sentiment is <deplorable.s.01: PosScore=0.0 NegScore=1.0>\n"
     ]
    }
   ],
   "source": [
    "'''\n",
    "Short sample on using sentiwordnet to calculate the\n",
    "sentiment for a given list of words\n",
    "'''\n",
    "\n",
    "# importing the library\n",
    "from nltk.corpus import sentiwordnet as swn\n",
    "\n",
    "# defining the list of words to be evaluated\n",
    "#   (please note: they are all the same part-of-speech)\n",
    "words = ['good', 'great', 'bad', 'terrible', 'happy', 'sad']\n",
    "\n",
    "# looping into the list of words and printing the sentiment\n",
    "for elem in words:\n",
    "    print ('\\nfor word', elem, 'sentiment is', swn.senti_synset(elem + '.a.03'))\n",
    "    \n",
    "\n"
   ]
  },
  {
   "cell_type": "code",
   "execution_count": null,
   "metadata": {},
   "outputs": [],
   "source": []
  }
 ],
 "metadata": {
  "kernelspec": {
   "display_name": "Python 3",
   "language": "python",
   "name": "python3"
  },
  "language_info": {
   "codemirror_mode": {
    "name": "ipython",
    "version": 3
   },
   "file_extension": ".py",
   "mimetype": "text/x-python",
   "name": "python",
   "nbconvert_exporter": "python",
   "pygments_lexer": "ipython3",
   "version": "3.7.4"
  }
 },
 "nbformat": 4,
 "nbformat_minor": 4
}
