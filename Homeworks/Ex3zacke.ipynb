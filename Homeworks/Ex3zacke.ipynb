{
 "cells": [
  {
   "cell_type": "code",
   "execution_count": 6,
   "metadata": {},
   "outputs": [
    {
     "name": "stdin",
     "output_type": "stream",
     "text": [
      "Please enter the file name, no extension:  marketingdata\n"
     ]
    },
    {
     "name": "stdout",
     "output_type": "stream",
     "text": [
      "\n",
      " The following are the first 3 lines containing N/A\n",
      "9 2 1 5 4 5 5 3 3 0 1 1 7 NA\n",
      "\n",
      "4 1 4 6 3 NA 5 1 1 0 1 1 7 NA\n",
      "\n",
      "9 2 1 5 5 1 5 2 2 0 1 1 7 NA\n",
      "\n",
      "\n",
      " There are 8993 lines in the marketingdata.txt file, of which 2117 have NAs\n",
      "\n",
      "---processing now the csv file---\n",
      "\n",
      "There are 5 lines in the CitiBike.csv file\n",
      "\n",
      "--the following are the first 5 lines:\n",
      "['1/1/2014', '6278', '6128485', '9555', '11531149', '96154', '29', '268', '10']\n",
      "['1/2/2014', '8883', '6137414', '11152', '11543337', '96203', '49', '66', '3']\n",
      "['1/3/2014', '1230', '6138709', '1919', '11547101', '96226', '23', '1', '1']\n",
      "['1/4/2014', '2375', '6141085', '3723', '11550825', '96247', '21', '14', '1']\n",
      "['1/5/2014', '2798', '6143883', '3659', '11554484', '96265', '18', '17', '4']\n",
      "\n",
      "--the following are the lines with smaller values for the daily miles:\n",
      "['1/5/2014', '2798', '6143883', '3659', '11554484', '96265', '18', '17', '4']\n",
      "['1/5/2014', '2798', '6143883', '3659', '11554484', '96265', '18', '17', '4']\n",
      "['1/5/2014', '2798', '6143883', '3659', '11554484', '96265', '18', '17', '4']\n",
      "['1/5/2014', '2798', '6143883', '3659', '11554484', '96265', '18', '17', '4']\n",
      "['1/5/2014', '2798', '6143883', '3659', '11554484', '96265', '18', '17', '4']\n",
      "['1/5/2014', '2798', '6143883', '3659', '11554484', '96265', '18', '17', '4']\n",
      "['1/5/2014', '2798', '6143883', '3659', '11554484', '96265', '18', '17', '4']\n",
      "['1/5/2014', '2798', '6143883', '3659', '11554484', '96265', '18', '17', '4']\n",
      "['1/5/2014', '2798', '6143883', '3659', '11554484', '96265', '18', '17', '4']\n",
      "['1/5/2014', '2798', '6143883', '3659', '11554484', '96265', '18', '17', '4']\n",
      "['1/5/2014', '2798', '6143883', '3659', '11554484', '96265', '18', '17', '4']\n"
     ]
    }
   ],
   "source": [
    "#Author Zack Edwards\n",
    "#Excersice 3\n",
    "\n",
    "#part 1\n",
    "while True:\n",
    "    in_filename = input(\"Please enter the file name, no extension: \") #ask for a while name\n",
    "    if in_filename == \"marketingdata\":    #Check if its the correct file name\n",
    "        marketing_filename = in_filename + '.txt'    #convert it into a txt file by adding the extension\n",
    "        break        \n",
    "    else:            \n",
    "        print ('\\n wrong file name')   #returns the user to re-input a file name         \n",
    "        continue\n",
    "marketing_file = open(marketing_filename, 'r') #open the file\n",
    "line_counter = 0 #a counter for the lines in the file\n",
    "NA_counter = 0 #counter for the lines containing NA\n",
    "print ('\\n The following are the first 3 lines containing N/A')\n",
    "for text_line in marketing_file:    \n",
    "    if 'NA' in text_line:        \n",
    "        if NA_counter < 3:            \n",
    "            print (text_line)  #if the line contains NA and is the first of 3 then it will be printed      \n",
    "        NA_counter += 1 #the counter goes up regardless\n",
    "    line_counter += 1\n",
    "print ('\\n There are', line_counter, 'lines in the', marketing_filename, 'file, of which', NA_counter, 'have NAs')\n",
    "#part 2\n",
    "print ('\\n---processing now the csv file---')\n",
    "citi_file = open('CitiBike.csv', 'r') #open the file\n",
    "next(citi_file) #skip beggining\n",
    "first_five_list = [] #create arrays \n",
    "smaller_miles_list = []\n",
    "line_counter = 0 #create a variabe to keep track of the lines\n",
    "for line in citi_file:    #loop through the file\n",
    "    line_list = line.strip().split(',')    \n",
    "    if line_counter < 5:        \n",
    "        first_five_list.append(line_list)    \n",
    "        line_counter += 1    \n",
    "    try:        \n",
    "        miles = int(line_list [3])    \n",
    "    except:        \n",
    "        continue    \n",
    "    if miles <10000:        \n",
    "        smaller_miles_list.append(line_list)\n",
    "print (\"\\nThere are\", line_counter, \"lines in the CitiBike.csv file\")\n",
    "print ('\\n--the following are the first 5 lines:')\n",
    "for one_of_five in first_five_list: \n",
    "    print (one_of_five)\n",
    "print ('\\n--the following are the lines with smaller values for the daily miles:')\n",
    "for small in smaller_miles_list: \n",
    "    print (one_of_five)"
   ]
  },
  {
   "cell_type": "code",
   "execution_count": null,
   "metadata": {},
   "outputs": [],
   "source": []
  }
 ],
 "metadata": {
  "kernelspec": {
   "display_name": "Python 3",
   "language": "python",
   "name": "python3"
  },
  "language_info": {
   "codemirror_mode": {
    "name": "ipython",
    "version": 3
   },
   "file_extension": ".py",
   "mimetype": "text/x-python",
   "name": "python",
   "nbconvert_exporter": "python",
   "pygments_lexer": "ipython3",
   "version": "3.7.4"
  }
 },
 "nbformat": 4,
 "nbformat_minor": 4
}
