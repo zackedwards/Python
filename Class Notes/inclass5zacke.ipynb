{
 "cells": [
  {
   "cell_type": "code",
   "execution_count": 13,
   "metadata": {},
   "outputs": [
    {
     "name": "stdin",
     "output_type": "stream",
     "text": [
      "Enter some passwords seperated by commas:  ABd1234@1,a F1#,2w3E*,2We3345\n"
     ]
    },
    {
     "name": "stdout",
     "output_type": "stream",
     "text": [
      "The following are valid passwords\n",
      "ABd1234@1\n"
     ]
    }
   ],
   "source": [
    "#Author Zack edwards\n",
    "#in class excercise 5\n",
    "\n",
    "import re\n",
    "\n",
    "def validate(password):\n",
    "    for i in password:\n",
    "        if (len(i) < 6) or (len(i) > 12):\n",
    "            continue\n",
    "        if not re.search('[a-z]', i):\n",
    "            continue\n",
    "        if not re.search('[0-9]', i):\n",
    "            continue\n",
    "        if not re.search('[A-Z]', i):\n",
    "            continue\n",
    "        if not re.search('[$#@]', i):\n",
    "            continue\n",
    "        finalpass.append(i)\n",
    "       \n",
    "        \n",
    "passw = input('Enter some passwords seperated by commas: ')\n",
    "password = passw.split(',')\n",
    "finalpass = []\n",
    "validate(password)\n",
    "print('The following are valid passwords')\n",
    "print(*finalpass, sep = ', ')\n",
    "if len(finalpass) == 0:\n",
    "    print('No passwords worked')"
   ]
  },
  {
   "cell_type": "code",
   "execution_count": null,
   "metadata": {},
   "outputs": [],
   "source": []
  }
 ],
 "metadata": {
  "kernelspec": {
   "display_name": "Python 3",
   "language": "python",
   "name": "python3"
  },
  "language_info": {
   "codemirror_mode": {
    "name": "ipython",
    "version": 3
   },
   "file_extension": ".py",
   "mimetype": "text/x-python",
   "name": "python",
   "nbconvert_exporter": "python",
   "pygments_lexer": "ipython3",
   "version": "3.7.4"
  }
 },
 "nbformat": 4,
 "nbformat_minor": 4
}
