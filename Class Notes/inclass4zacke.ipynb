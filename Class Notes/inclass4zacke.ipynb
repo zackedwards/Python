{
 "cells": [
  {
   "cell_type": "code",
   "execution_count": 28,
   "metadata": {},
   "outputs": [
    {
     "name": "stdout",
     "output_type": "stream",
     "text": [
      "\n",
      "Please enter number  1 out of 3\n"
     ]
    },
    {
     "name": "stdin",
     "output_type": "stream",
     "text": [
      ">  3\n"
     ]
    },
    {
     "name": "stdout",
     "output_type": "stream",
     "text": [
      "\n",
      "Please enter number  2 out of 3\n"
     ]
    },
    {
     "name": "stdin",
     "output_type": "stream",
     "text": [
      ">  2\n"
     ]
    },
    {
     "name": "stdout",
     "output_type": "stream",
     "text": [
      "\n",
      "Please enter number  3 out of 3\n"
     ]
    },
    {
     "name": "stdin",
     "output_type": "stream",
     "text": [
      ">  2\n"
     ]
    },
    {
     "name": "stdout",
     "output_type": "stream",
     "text": [
      "The factorial of the first number is  6\n",
      "The sum of the numbers is  7\n",
      "The multiplication of the numbers is  12\n"
     ]
    }
   ],
   "source": [
    "#Author Zacke Edwards\n",
    "#in class excercise 4\n",
    "\n",
    "def is_numeric(value): #a function to check if an input is a variable\n",
    "    try:\n",
    "        int(value) #if its an integer it returns y for yes\n",
    "        return ('y')\n",
    "    except:\n",
    "        return ('n')\n",
    "        \n",
    "def factorial(num): #a function to take the factorial\n",
    "    if num == 0:\n",
    "        return 1 # the factorial of 0 is 1\n",
    "    else:\n",
    "        return num * factorial(num - 1)\n",
    "\n",
    "def calc(num_list): #a function to summate and multiply the inputs\n",
    "    sum_num = 0\n",
    "    mult_num = 1\n",
    "    for elem in num_list:\n",
    "        sum_num = sum_num + elem #adds the element to the total\n",
    "        mult_num = mult_num * elem #multiplies the element to the total\n",
    "    return sum_num, mult_num\n",
    "    \n",
    "numbers_list = []\n",
    "\n",
    "c = 0\n",
    "while c <= 2: #gathering the inputs\n",
    "    print('\\nPlease enter number ',c+1, 'out of 3')\n",
    "    num_in = input('> ')\n",
    "    if is_numeric(num_in) == 'y': \n",
    "        numbers_list.append(int(num_in)) #if the input is a number it gets added to the list\n",
    "        c = c+1\n",
    "    else:\n",
    "        continue\n",
    "print('The factorial of the first number is ', factorial(numbers_list[0])) #printing the factorial\n",
    "sum_total, mult_total = calc(numbers_list)\n",
    "print('The sum of the numbers is ',sum_total)\n",
    "print('The multiplication of the numbers is ',mult_total)"
   ]
  },
  {
   "cell_type": "code",
   "execution_count": null,
   "metadata": {},
   "outputs": [],
   "source": []
  }
 ],
 "metadata": {
  "kernelspec": {
   "display_name": "Python 3",
   "language": "python",
   "name": "python3"
  },
  "language_info": {
   "codemirror_mode": {
    "name": "ipython",
    "version": 3
   },
   "file_extension": ".py",
   "mimetype": "text/x-python",
   "name": "python",
   "nbconvert_exporter": "python",
   "pygments_lexer": "ipython3",
   "version": "3.7.4"
  }
 },
 "nbformat": 4,
 "nbformat_minor": 4
}
