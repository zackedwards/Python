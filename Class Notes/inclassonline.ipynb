{
 "cells": [
  {
   "cell_type": "code",
   "execution_count": 22,
   "metadata": {},
   "outputs": [
    {
     "name": "stdout",
     "output_type": "stream",
     "text": [
      "Average of X1  is:  2.6734735827633993\n",
      "Median of X1  is:  0.4\n",
      "Average of X2  is:  0.6115954496203795\n",
      "Median of X2  is:  6.93\n",
      "Average of X3  is:  44.510967083204434\n",
      "Median of X3  is:  46.725\n",
      "Average of X4  is:  45.63696963739522\n",
      "Median of X4  is:  43.97\n",
      "Average of X5  is:  0.4927515497150954\n",
      "Median of X5  is:  1.0\n",
      "Average of X6  is:  0.17549598810708367\n",
      "Median of X6  is:  0.0\n",
      "Average of X7  is:  4.254634673368997\n",
      "Median of X7  is:  0.0\n",
      "Average of X8  is:  23.22055232048083\n",
      "Median of X8  is:  40.0\n",
      "Average of X9  is:  182.6215345993832\n",
      "Median of X9  is:  345.41900000000004\n",
      "Average of X10  is:  0.7878808906599571\n",
      "Median of X10  is:  2.417221\n"
     ]
    }
   ],
   "source": [
    "#Author Zack Edwards\n",
    "#Inclass assignment 3/12\n",
    "\n",
    "import numpy as np\n",
    "import pandas as pd\n",
    "\n",
    "file = 'Regression Data-1.csv'\n",
    "df1 = pd.read_csv(file)\n",
    "i = 1\n",
    "while i < 11:\n",
    "    t1 = df1['x' + str(i)]\n",
    "    std = np.std(t1)\n",
    "    med = np.median(t1)\n",
    "    print('Average of X' + str(i) , ' is: ', std)\n",
    "    print('Median of X' + str(i) , ' is: ', med)\n",
    "    i += 1\n"
   ]
  },
  {
   "cell_type": "code",
   "execution_count": null,
   "metadata": {},
   "outputs": [],
   "source": []
  },
  {
   "cell_type": "code",
   "execution_count": null,
   "metadata": {},
   "outputs": [],
   "source": []
  }
 ],
 "metadata": {
  "kernelspec": {
   "display_name": "Python 3",
   "language": "python",
   "name": "python3"
  },
  "language_info": {
   "codemirror_mode": {
    "name": "ipython",
    "version": 3
   },
   "file_extension": ".py",
   "mimetype": "text/x-python",
   "name": "python",
   "nbconvert_exporter": "python",
   "pygments_lexer": "ipython3",
   "version": "3.7.4"
  }
 },
 "nbformat": 4,
 "nbformat_minor": 4
}
