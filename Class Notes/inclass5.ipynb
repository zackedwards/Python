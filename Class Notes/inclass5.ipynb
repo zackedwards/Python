{
 "cells": [
  {
   "cell_type": "code",
   "execution_count": 114,
   "metadata": {},
   "outputs": [
    {
     "name": "stdin",
     "output_type": "stream",
     "text": [
      "Please input anything:  the\n"
     ]
    },
    {
     "name": "stdout",
     "output_type": "stream",
     "text": [
      "ttthhheee\n"
     ]
    }
   ],
   "source": [
    "#Author Zack Edwards\n",
    "#Exam 1 section 3\n",
    "str = input('Please input anything: ')\n",
    "def triple(str):\n",
    "    for i in str:\n",
    "        yield i * 3\n",
    "result = ''.join(triple(str))\n",
    "print(result)"
   ]
  },
  {
   "cell_type": "code",
   "execution_count": null,
   "metadata": {},
   "outputs": [],
   "source": []
  }
 ],
 "metadata": {
  "kernelspec": {
   "display_name": "Python 3",
   "language": "python",
   "name": "python3"
  },
  "language_info": {
   "codemirror_mode": {
    "name": "ipython",
    "version": 3
   },
   "file_extension": ".py",
   "mimetype": "text/x-python",
   "name": "python",
   "nbconvert_exporter": "python",
   "pygments_lexer": "ipython3",
   "version": "3.7.4"
  }
 },
 "nbformat": 4,
 "nbformat_minor": 4
}
