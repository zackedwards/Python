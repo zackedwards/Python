{
 "cells": [
  {
   "cell_type": "code",
   "execution_count": 3,
   "metadata": {},
   "outputs": [],
   "source": [
    "stop = open('stopwords_en.txt', 'r')\n",
    "tweets = open('hoboken_tweets.csv', 'r')"
   ]
  },
  {
   "cell_type": "code",
   "execution_count": 4,
   "metadata": {},
   "outputs": [
    {
     "name": "stdout",
     "output_type": "stream",
     "text": [
      "['a', 'about', 'above', 'across', 'after', 'afterwards', 'again', 'against', 'all', 'almost', 'alone', 'along', 'already', 'also', 'although', 'always', 'am', 'among', 'amongst', 'amoungst', 'amount', 'an', 'and', 'another', 'any', 'anyhow', 'anyone', 'anything', 'anyway', 'anywhere', 'are', 'around', 'as', 'at', 'back', 'be', 'became', 'because', 'become', 'becomes', 'becoming', 'been', 'before', 'beforehand', 'behind', 'being', 'below', 'beside', 'besides', 'between', 'beyond', 'bill', 'both', 'bottom', 'but', 'by', 'call', 'can', 'cannot', 'cant', 'co', 'con', 'could', 'couldnt', 'cry', 'de', 'describe', 'detail', 'do', 'done', 'down', 'due', 'during', 'each', 'eg', 'eight', 'either', 'eleven', 'else', 'elsewhere', 'empty', 'enough', 'etc', 'even', 'ever', 'every', 'everyone', 'everything', 'everywhere', 'except', 'few', 'fifteen', 'fify', 'fill', 'find', 'fire', 'first', 'five', 'for', 'former', 'formerly', 'forty', 'found', 'four', 'from', 'front', 'full', 'further', 'get', 'give', 'go', 'had', 'has', 'hasnt', 'have', 'he', 'hence', 'her', 'here', 'hereafter', 'hereby', 'herein', 'hereupon', 'hers', 'herself', 'him', 'himself', 'his', 'how', 'however', 'hundred', 'i', 'ie', 'if', 'in', 'inc', 'indeed', 'interest', 'into', 'is', 'it', 'its', 'itself', 'keep', 'last', 'latter', 'latterly', 'least', 'less', 'ltd', 'made', 'many', 'may', 'me', 'meanwhile', 'might', 'mill', 'mine', 'more', 'moreover', 'most', 'mostly', 'move', 'much', 'must', 'my', 'myself', 'name', 'namely', 'neither', 'never', 'nevertheless', 'next', 'nine', 'no', 'nobody', 'none', 'noone', 'nor', 'not', 'nothing', 'now', 'nowhere', 'of', 'off', 'often', 'on', 'once', 'one', 'only', 'onto', 'or', 'other', 'others', 'otherwise', 'our', 'ours', 'ourselves', 'out', 'over', 'own', 'part', 'per', 'perhaps', 'please', 'put', 'rather', 're', 'same', 'see', 'seem', 'seemed', 'seeming', 'seems', 'serious', 'several', 'she', 'should', 'show', 'side', 'since', 'sincere', 'six', 'sixty', 'so', 'some', 'somehow', 'someone', 'something', 'sometime', 'sometimes', 'somewhere', 'still', 'such', 'system', 'take', 'ten', 'than', 'that', 'the', 'their', 'them', 'themselves', 'then', 'thence', 'there', 'thereafter', 'thereby', 'therefore', 'therein', 'thereupon', 'these', 'they', 'thick', 'thin', 'third', 'this', 'those', 'though', 'three', 'through', 'throughout', 'thru', 'thus', 'to', 'together', 'too', 'top', 'toward', 'towards', 'twelve', 'twenty', 'two', 'un', 'under', 'until', 'up', 'upon', 'us', 'very', 'via', 'was', 'we', 'well', 'were', 'what', 'whatever', 'when', 'whence', 'whenever', 'where', 'whereafter', 'whereas', 'whereby', 'wherein', 'whereupon', 'wherever', 'whether', 'which', 'while', 'whither', 'who', 'whoever', 'whole', 'whom', 'whose', 'why', 'will', 'with', 'within', 'without', 'would', 'yet', 'you', 'your', 'yours', 'yourself', 'yourselves']\n"
     ]
    }
   ],
   "source": [
    "stop = open('stopwords_en.txt', 'r')\n",
    "stops = [] #initializing and cleaning the list of stopwords\n",
    "stop_list = stop.readlines()\n",
    "for i in stop_list:\n",
    "    stops.append(i[:-1])\n",
    "stop_list = stops\n",
    "print(stop_list)"
   ]
  },
  {
   "cell_type": "code",
   "execution_count": 5,
   "metadata": {},
   "outputs": [
    {
     "data": {
      "text/html": [
       "<div>\n",
       "<style scoped>\n",
       "    .dataframe tbody tr th:only-of-type {\n",
       "        vertical-align: middle;\n",
       "    }\n",
       "\n",
       "    .dataframe tbody tr th {\n",
       "        vertical-align: top;\n",
       "    }\n",
       "\n",
       "    .dataframe thead th {\n",
       "        text-align: right;\n",
       "    }\n",
       "</style>\n",
       "<table border=\"1\" class=\"dataframe\">\n",
       "  <thead>\n",
       "    <tr style=\"text-align: right;\">\n",
       "      <th></th>\n",
       "      <th>screen_name</th>\n",
       "      <th>created_at</th>\n",
       "      <th>text</th>\n",
       "    </tr>\n",
       "  </thead>\n",
       "  <tbody>\n",
       "    <tr>\n",
       "      <td>0</td>\n",
       "      <td>Ath7etic</td>\n",
       "      <td>11/7/17 0:00</td>\n",
       "      <td>Tuesday 11/7/17  https://t.co/s4uzlnIYWD</td>\n",
       "    </tr>\n",
       "    <tr>\n",
       "      <td>1</td>\n",
       "      <td>techieocho</td>\n",
       "      <td>11/7/17 0:00</td>\n",
       "      <td>Broadcom lanza oferta para comprar a Qualcomm ...</td>\n",
       "    </tr>\n",
       "    <tr>\n",
       "      <td>2</td>\n",
       "      <td>kingmatt__</td>\n",
       "      <td>11/7/17 0:00</td>\n",
       "      <td>Smfh this is wild #FreeMeek</td>\n",
       "    </tr>\n",
       "    <tr>\n",
       "      <td>3</td>\n",
       "      <td>lbostudio</td>\n",
       "      <td>11/7/17 0:00</td>\n",
       "      <td>its in the details :: Valentino Couture 2013  ...</td>\n",
       "    </tr>\n",
       "    <tr>\n",
       "      <td>4</td>\n",
       "      <td>pcollett88</td>\n",
       "      <td>11/7/17 0:00</td>\n",
       "      <td>that certainly is a group of five hockey playe...</td>\n",
       "    </tr>\n",
       "  </tbody>\n",
       "</table>\n",
       "</div>"
      ],
      "text/plain": [
       "  screen_name    created_at                                               text\n",
       "0    Ath7etic  11/7/17 0:00           Tuesday 11/7/17  https://t.co/s4uzlnIYWD\n",
       "1  techieocho  11/7/17 0:00  Broadcom lanza oferta para comprar a Qualcomm ...\n",
       "2  kingmatt__  11/7/17 0:00                        Smfh this is wild #FreeMeek\n",
       "3   lbostudio  11/7/17 0:00  its in the details :: Valentino Couture 2013  ...\n",
       "4  pcollett88  11/7/17 0:00  that certainly is a group of five hockey playe..."
      ]
     },
     "execution_count": 5,
     "metadata": {},
     "output_type": "execute_result"
    }
   ],
   "source": [
    "tweets = open('hoboken_tweets.csv', 'r')\n",
    "tweet_df = pd.read_csv(tweets)\n",
    "tweet_df.head()"
   ]
  },
  {
   "cell_type": "code",
   "execution_count": 51,
   "metadata": {},
   "outputs": [
    {
     "name": "stdout",
     "output_type": "stream",
     "text": [
      "The 10 most frequest users and the amount of tweets they sent are:  [('511NY', 477), ('511NYC', 362), ('_DaWhiteODB', 221), ('TimeforTruth16', 209), ('ironstowe', 164), ('spolyptych', 156), ('SyndicateReaps', 132), ('NJdivorce', 123), ('JohnPre170786', 112), ('mrossano6970', 97)]\n",
      "\n",
      "These are the top 10 most used words and how many times they were used:  [('new', 2928), ('just', 1960), ('like', 1841), ('york', 1815), ('amp', 1798), ('vote', 1463), ('dont', 1459), ('love', 1144), ('job', 1109), ('time', 1064)]\n"
     ]
    },
    {
     "data": {
      "image/png": "[encoded data removed]",
      "text/plain": [
       "<Figure size 432x288 with 1 Axes>"
      ]
     },
     "metadata": {
      "needs_background": "light"
     },
     "output_type": "display_data"
    },
    {
     "data": {
      "image/png": "[encoded data removed]",
      "text/plain": [
       "<Figure size 432x288 with 1 Axes>"
      ]
     },
     "metadata": {
      "needs_background": "light"
     },
     "output_type": "display_data"
    }
   ],
   "source": [
    "import matplotlib\n",
    "import numpy as np\n",
    "import matplotlib.pyplot as plt\n",
    "import seaborn as sns\n",
    "from sklearn import datasets\n",
    "import pandas as pd\n",
    "import csv\n",
    "import nltk\n",
    "from collections import Counter\n",
    "\n",
    "stop = open('stopwords_en.txt', 'r')\n",
    "stops = [] #initializing and cleaning the list of stopwords\n",
    "stop_list = stop.readlines()\n",
    "for i in stop_list:\n",
    "    stops.append(i[:-1])\n",
    "stop_list = stops\n",
    "#print(stop_list)\n",
    "\n",
    "tweets = open('hoboken_tweets.csv', 'r')\n",
    "df = pd.read_csv(tweets)\n",
    "#df.head()\n",
    "\n",
    "senders_list = list(df['screen_name'])\n",
    "top10 = Counter(senders_list).most_common(10)\n",
    "print('The 10 most frequest users and the amount of tweets they sent are: ', top10)\n",
    "\n",
    "word_list = []\n",
    "for index, row in df['text'].iteritems():\n",
    "    text_str = str(row)\n",
    "    tokens = nltk.word_tokenize(text_str)\n",
    "    alphabet = [word for word in tokens if word.isalpha()]\n",
    "    lowercase = [word.lower() for word in alphabet]\n",
    "    no_stopwords = []\n",
    "    for i in lowercase:\n",
    "        if i not in stop_list and len(i) > 2 and i != 'https':\n",
    "            no_stopwords.append(i)\n",
    "    word_list.extend(no_stopwords)\n",
    "    \n",
    "top_50 = Counter(word_list).most_common(10)\n",
    "print('\\nThese are the top 10 most used words and how many times they were used: ', top_50)\n",
    "\n",
    "stop.close()\n",
    "tweets.close()\n",
    "\n",
    "word = []\n",
    "frequency = []\n",
    "\n",
    "for i in range(len(top_50)):\n",
    "    word.append(top_50[i][0])\n",
    "    frequency.append(top_50[i][1])\n",
    "\n",
    "\n",
    "plt.bar(word, frequency, color='r')\n",
    "plt.title('Top 10 Words')\n",
    "plt.xlabel('Word')\n",
    "plt.ylabel('Frequency')\n",
    "plt.show()\n",
    "\n",
    "word = []\n",
    "frequency = []\n",
    "\n",
    "for i in range(len(top10)):\n",
    "    word.append(top10[i][0])\n",
    "    frequency.append(top10[i][1])\n",
    "\n",
    "\n",
    "plt.bar(word, frequency, color='r')\n",
    "plt.title('Top 10 users')\n",
    "plt.xlabel('User')\n",
    "plt.ylabel('Amount of tweets')\n",
    "plt.show()"
   ]
  },
  {
   "cell_type": "code",
   "execution_count": 49,
   "metadata": {},
   "outputs": [
    {
     "data": {
      "image/png": "[encoded data removed]",
      "text/plain": [
       "<Figure size 432x288 with 1 Axes>"
      ]
     },
     "metadata": {
      "needs_background": "light"
     },
     "output_type": "display_data"
    }
   ],
   "source": [
    "word = []\n",
    "frequency = []\n",
    "\n",
    "for i in range(len(top_50)):\n",
    "    word.append(top_50[i][0])\n",
    "    frequency.append(top_50[i][1])\n",
    "\n",
    "\n",
    "plt.bar(word, frequency, color='r')\n",
    "plt.title('Top 10 Words')\n",
    "plt.xlabel('Word')\n",
    "plt.ylabel('Frequency')\n",
    "plt.show()"
   ]
  },
  {
   "cell_type": "code",
   "execution_count": 50,
   "metadata": {},
   "outputs": [
    {
     "data": {
      "image/png": "[encoded data removed]",
      "text/plain": [
       "<Figure size 432x288 with 1 Axes>"
      ]
     },
     "metadata": {
      "needs_background": "light"
     },
     "output_type": "display_data"
    }
   ],
   "source": [
    "word = []\n",
    "frequency = []\n",
    "\n",
    "for i in range(len(top10)):\n",
    "    word.append(top10[i][0])\n",
    "    frequency.append(top10[i][1])\n",
    "\n",
    "\n",
    "plt.bar(word, frequency, color='r')\n",
    "plt.title('Top 10 users')\n",
    "plt.xlabel('User')\n",
    "plt.ylabel('Amount of tweets')\n",
    "plt.show()"
   ]
  },
  {
   "cell_type": "code",
   "execution_count": null,
   "metadata": {},
   "outputs": [],
   "source": []
  }
 ],
 "metadata": {
  "kernelspec": {
   "display_name": "Python 3",
   "language": "python",
   "name": "python3"
  },
  "language_info": {
   "codemirror_mode": {
    "name": "ipython",
    "version": 3
   },
   "file_extension": ".py",
   "mimetype": "text/x-python",
   "name": "python",
   "nbconvert_exporter": "python",
   "pygments_lexer": "ipython3",
   "version": "3.7.4"
  }
 },
 "nbformat": 4,
 "nbformat_minor": 4
}
