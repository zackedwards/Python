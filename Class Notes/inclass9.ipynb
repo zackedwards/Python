{
 "cells": [
  {
   "cell_type": "code",
   "execution_count": 9,
   "metadata": {},
   "outputs": [
    {
     "ename": "AttributeError",
     "evalue": "'NoneType' object has no attribute 'find_all'",
     "output_type": "error",
     "traceback": [
      "\u001b[0;31m---------------------------------------------------------------------------\u001b[0m",
      "\u001b[0;31mAttributeError\u001b[0m                            Traceback (most recent call last)",
      "\u001b[0;32m<ipython-input-9-b62545ab6916>\u001b[0m in \u001b[0;36m<module>\u001b[0;34m\u001b[0m\n\u001b[1;32m      9\u001b[0m \u001b[0msoup\u001b[0m \u001b[0;34m=\u001b[0m \u001b[0mBeautifulSoup\u001b[0m\u001b[0;34m(\u001b[0m\u001b[0mpage\u001b[0m\u001b[0;34m.\u001b[0m\u001b[0mcontent\u001b[0m\u001b[0;34m,\u001b[0m \u001b[0;34m'html.parser'\u001b[0m\u001b[0;34m)\u001b[0m\u001b[0;34m\u001b[0m\u001b[0;34m\u001b[0m\u001b[0m\n\u001b[1;32m     10\u001b[0m \u001b[0msite_content\u001b[0m \u001b[0;34m=\u001b[0m \u001b[0msoup\u001b[0m\u001b[0;34m.\u001b[0m\u001b[0mfind\u001b[0m\u001b[0;34m(\u001b[0m\u001b[0mid\u001b[0m\u001b[0;34m=\u001b[0m\u001b[0;34m\"site-content\"\u001b[0m\u001b[0;34m)\u001b[0m\u001b[0;34m\u001b[0m\u001b[0;34m\u001b[0m\u001b[0m\n\u001b[0;32m---> 11\u001b[0;31m \u001b[0mitems\u001b[0m \u001b[0;34m=\u001b[0m \u001b[0msite_content\u001b[0m\u001b[0;34m.\u001b[0m\u001b[0mfind_all\u001b[0m\u001b[0;34m(\u001b[0m\u001b[0mclass_\u001b[0m\u001b[0;34m=\u001b[0m\u001b[0;34m\"DataTable_TableRow-sc-o8fxqq dCVeti\"\u001b[0m\u001b[0;34m)\u001b[0m\u001b[0;34m\u001b[0m\u001b[0;34m\u001b[0m\u001b[0m\n\u001b[0m\u001b[1;32m     12\u001b[0m \u001b[0mfirst_item\u001b[0m \u001b[0;34m=\u001b[0m \u001b[0mitems\u001b[0m\u001b[0;34m[\u001b[0m\u001b[0;36m0\u001b[0m\u001b[0;34m]\u001b[0m\u001b[0;34m\u001b[0m\u001b[0;34m\u001b[0m\u001b[0m\n\u001b[1;32m     13\u001b[0m \u001b[0mprint\u001b[0m\u001b[0;34m(\u001b[0m\u001b[0mfirst_item\u001b[0m\u001b[0;34m.\u001b[0m\u001b[0mprettify\u001b[0m\u001b[0;34m(\u001b[0m\u001b[0;34m)\u001b[0m\u001b[0;34m)\u001b[0m\u001b[0;34m\u001b[0m\u001b[0;34m\u001b[0m\u001b[0m\n",
      "\u001b[0;31mAttributeError\u001b[0m: 'NoneType' object has no attribute 'find_all'"
     ]
    }
   ],
   "source": [
    "#in class excersize 9\n",
    "#authors: Zack, Alexis, Emily, Andrew\n",
    "\n",
    "import urllib.request\n",
    "import requests\n",
    "from bs4 import BeautifulSoup\n",
    "\n",
    "page = requests.get(\"https://www.kaggle.com/neuromusic/avocado-prices#avocado.csv\")\n",
    "soup = BeautifulSoup(page.content, 'html.parser')\n",
    "site_content = soup.find(id=\"site-content\")\n",
    "items = site_content.find_all(class_=\"DataTable_TableRow-sc-o8fxqq dCVeti\")\n",
    "first_item = items[0]\n",
    "print(first_item.prettify())"
   ]
  },
  {
   "cell_type": "code",
   "execution_count": null,
   "metadata": {},
   "outputs": [],
   "source": [
    "DataTable_Cell-sc-1d2l9ix DataTable_PrimaryHeaderCell-sc-1lkar1i buDNWC"
   ]
  },
  {
   "cell_type": "code",
   "execution_count": 10,
   "metadata": {},
   "outputs": [
    {
     "name": "stdout",
     "output_type": "stream",
     "text": [
      "Date: Thu, 23 Apr 2020 21:41:22 GMT\n",
      "Content-Type: text/html; charset=utf-8\n",
      "Cache-Control: no-cache, no-store\n",
      "Pragma: no-cache\n",
      "Transfer-Encoding: chunked\n",
      "Set-Cookie: ka_sessionid=7aed8ced4dec4e754c2ef787e6f00bbb; max-age=15759359; path=/\n",
      "Set-Cookie: CSRF-TOKEN=CfDJ8LdUzqlsSWBPr4Ce3rb9VL-_Qt6poLYPBVCLguc4K6Q6uBoaZrWCIrwqXhKhUgjK_ZDqlpQWa_Nb430EJ_h3SFDxWTwfvQ6Jb0NLEvhOM0lEdATTTjPZEtlzCG4g-dXVOOkvVDwI5r2U9FERq-sDwrY; path=/; secure; samesite=lax; httponly\n",
      "Set-Cookie: XSRF-TOKEN=CfDJ8LdUzqlsSWBPr4Ce3rb9VL9B-VhggWuLXzNUeqs4rxEq-X9vSZFSYIoP8e_zLi6a54kQ_p3VFpm_uo-Y1c_buVMD2krGJAp9tIoPrxiv7TjOXGBAhaITU7V37ic-twBWlkfNncSLuIo_njxCEpAXWGo; path=/; secure; samesite=lax\n",
      "Set-Cookie: CLIENT-TOKEN=eyJhbGciOiJub25lIiwidHlwIjoiSldUIn0.eyJpc3MiOiJrYWdnbGUiLCJhdWQiOiJjbGllbnQiLCJzdWIiOm51bGwsIm5idCI6IjIwMjAtMDQtMjNUMjE6NDE6MjMuMzk2Mzk5NloiLCJpYXQiOiIyMDIwLTA0LTIzVDIxOjQxOjIzLjM5NjM5OTZaIiwianRpIjoiZjE0NGI2ZTQtNDYwNi00NjgwLWFlMGQtYzk3NDg4NDY5ZmZmIiwiZXhwIjoiMjAyMC0wNS0yM1QyMTo0MToyMy4zOTYzOTk2WiIsImFub24iOnRydWUsImZmIjpbIkZsZXhpYmxlR3B1IiwiS2VybmVsc0ludGVybmV0IiwiRGF0YUV4cGxvcmVyVjIiLCJEYXRhU291cmNlU2VsZWN0b3JWMiIsIktlcm5lbHNWaWV3ZXJJbm5lclRhYmxlT2ZDb250ZW50cyIsIkZvcnVtV2F0Y2hEZXByZWNhdGVkIiwiTmV3S2VybmVsV2VsY29tZSIsIk1kZUltYWdlVXBsb2FkZXIiLCJLZXJuZWxzUXVpY2tWZXJzaW9ucyIsIkRpc2FibGVDdXN0b21QYWNrYWdlcyIsIlBpbk9yaWdpbmFsRG9ja2VyVmVyc2lvbiIsIlBob25lVmVyaWZ5Rm9yR3B1IiwiQ2xvdWRTZXJ2aWNlc0tlcm5lbEludGVnIiwiVXNlclNlY3JldHNLZXJuZWxJbnRlZyIsIk5hdmlnYXRpb25SZWRlc2lnbiIsIktlcm5lbHNTbmlwcGV0cyIsIktlcm5lbFdlbGNvbWVMb2FkRnJvbVVybCIsIlRwdUtlcm5lbEludGVnIiwiS2VybmVsc0ZpcmViYXNlTG9uZ1BvbGxpbmciLCJEYXRhc2V0TGl2ZU1vdW50IiwiRGF0YXNldHNUYXNrT25Ob3RlYm9va0xpc3RpbmciXX0.; path=/; secure; samesite=lax\n",
      "Vary: Accept-Encoding\n",
      "X-Cloud-Trace-Context: 7aed8ced4dec4e754c2ef787e6f00bbb/5567782700892226428;o=1\n",
      "Turbolinks-Location: https://www.kaggle.com/neuromusic/avocado-prices\n",
      "X-Frame-Options: SAMEORIGIN\n",
      "Strict-Transport-Security: max-age=63072000; includeSubDomains; preload\n",
      "Content-Security-Policy: object-src 'none'; script-src 'nonce-1jIvSDsJOa6noDyNQgyZEw==' 'report-sample' 'unsafe-inline' 'unsafe-eval' 'strict-dynamic' https: http:; frame-src 'self' https://www.kaggleusercontent.com https://www.youtube.com/embed/ https://polygraph-cool.github.io https://js.stripe.com https://www.google.com/recaptcha/ https://form.jotform.com https://submit.jotform.us https://submit.jotformpro.com https://submit.jotform.com https://www.docdroid.com https://www.docdroid.net https://kaggle-static.storage.googleapis.com https://kaggle-static-staging.storage.googleapis.com https://kkb-dev.jupyter-proxy.kaggle.net https://kkb-staging.jupyter-proxy.kaggle.net https://kkb-production.jupyter-proxy.kaggle.net https://kkb-production.firebaseapp.com https://apis.google.com https://content-sheets.googleapis.com/ https://accounts.google.com/ https://storage.googleapis.com; base-uri 'none'; report-uri /csp/report\n",
      "X-Content-Type-Options: nosniff\n",
      "Referrer-Policy: strict-origin-when-cross-origin\n",
      "Via: 1.1 google\n",
      "Set-Cookie: GCLB=CP7cno_nrIjgvwE; path=/; HttpOnly\n",
      "Alt-Svc: clear\n",
      "Connection: close\n",
      "\n",
      "\n"
     ]
    }
   ],
   "source": [
    "response = urllib.request.urlopen('https://www.kaggle.com/neuromusic/avocado-prices#avocado.csv')\n",
    "print (response.info())"
   ]
  },
  {
   "cell_type": "code",
   "execution_count": null,
   "metadata": {},
   "outputs": [],
   "source": []
  }
 ],
 "metadata": {
  "kernelspec": {
   "display_name": "Python 3",
   "language": "python",
   "name": "python3"
  },
  "language_info": {
   "codemirror_mode": {
    "name": "ipython",
    "version": 3
   },
   "file_extension": ".py",
   "mimetype": "text/x-python",
   "name": "python",
   "nbconvert_exporter": "python",
   "pygments_lexer": "ipython3",
   "version": "3.7.4"
  }
 },
 "nbformat": 4,
 "nbformat_minor": 4
}
